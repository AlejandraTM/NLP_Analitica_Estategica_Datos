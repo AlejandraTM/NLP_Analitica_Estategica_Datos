{
 "cells": [
  {
   "cell_type": "markdown",
   "metadata": {
    "slideshow": {
     "slide_type": "slide"
    }
   },
   "source": [
    "<center><img src='img/nlp.jpeg' style='height:300px; float: center; margin: 0px 15px 15px 0px'><center>\n",
    "\n",
    "### Fundamentos de Procesamiento de Lenguaje Natural (NLP)\n",
    "#### Analítica Estratégica de Datos\n",
    "<br>Fundación Universitaria Konrad Lorenz\n",
    "<br>Docente: Viviana Márquez [vivianam.penam@konradlorenz.edu.co]\n",
    "\n",
    "\n",
    "**Video de la clase: [Aquí](https://web.microsoftstream.com/video/ab99eef9-fbdc-4d12-99ad-4a12d06608ae)**"
   ]
  },
  {
   "cell_type": "markdown",
   "metadata": {
    "slideshow": {
     "slide_type": "slide"
    }
   },
   "source": [
    "### Contenido \n",
    "\n",
    "• Presentación\n",
    "\n",
    "• Objetivo de la clase\n",
    "\n",
    "• Logística (Horario, plan analítico, calificaciones, textos de referencia, etc.)\n",
    "\n",
    "• ¿Qué es NLP? ¿Por qué aprenderlo?\n",
    "\n",
    "• Taller: Instalación de Python (Anaconda), control de versiones con GitHub, cuenta de desarrollador en Twitter. Calentar motores."
   ]
  },
  {
   "cell_type": "markdown",
   "metadata": {
    "slideshow": {
     "slide_type": "slide"
    }
   },
   "source": [
    "### Presentación\n",
    "\n",
    "<img src='img/VivianaM.png' style='height:500px; float: left; margin: 0px 15px 15px 0px'> \n",
    "\n",
    "👋 ¡Hola! Soy Viviana Márquez\n",
    "\n",
    "🎓 MSc. Ciencia de Datos de la Universidad de San Francisco<br>\n",
    "🎓 BSc. Matemáticas de la Konrad Lorenz<br>\n",
    "🎓 Técnica en Comunicación Social<br>\n",
    "\n",
    "<img src='img/hbo-logo.png' style='height:50px;'> **Actualmente**: Científica de Datos para HBO Latin America <br>\n",
    "<small>*Antes*: Royal Caribbean Cruises, Zimmerman Advertising, TruSTAR Technology.</small>\n",
    "\n",
    "🤖 Temas de interes: NLP, visualización de datos, creación de bots. Combinatoria y comunicación científica. "
   ]
  },
  {
   "cell_type": "markdown",
   "metadata": {
    "slideshow": {
     "slide_type": "slide"
    }
   },
   "source": [
    "### Sobre la clase de NLP\n",
    "\n",
    "\n",
    "**🎯 Objetivo**:"
   ]
  },
  {
   "cell_type": "markdown",
   "metadata": {
    "slideshow": {
     "slide_type": "fragment"
    }
   },
   "source": [
    "• Adquirir los conocimientos y las herramientas más utilizadas en la industria en el área del Procesamiento de Lenguaje Natural (NLP). **(¡Entrevistas!)**"
   ]
  },
  {
   "cell_type": "markdown",
   "metadata": {
    "slideshow": {
     "slide_type": "fragment"
    }
   },
   "source": [
    "• Ganar **experiencia** en la implementación y evaluación de diferentes aplicaciones de NLP y aplicar métodos de aprendizaje automático para este proceso en casos de la vida real. **(¡Portafolio!)**"
   ]
  },
  {
   "cell_type": "markdown",
   "metadata": {
    "slideshow": {
     "slide_type": "fragment"
    }
   },
   "source": [
    "• Entender las mejores prácticas, oportunidades y el mapa de ruta de la NLP desde la perspectiva de un líder de negocios y productos."
   ]
  },
  {
   "cell_type": "markdown",
   "metadata": {
    "slideshow": {
     "slide_type": "slide"
    }
   },
   "source": [
    "### Sobre la clase de NLP -- Logística\n",
    "\n",
    "**🗓️ Horario:** <br>\n",
    "Sábados 7:30 a.m. - 10:45 a.m.<br>\n",
    "*Primer bloque: Explicación holística y práctica.<br>\n",
    "Segundo bloque: Taller<br>*\n",
    "¿Negociamos? https://pollev.com/vivianamarqu288\n"
   ]
  },
  {
   "cell_type": "markdown",
   "metadata": {
    "slideshow": {
     "slide_type": "fragment"
    }
   },
   "source": [
    "**Otra información importante:**<br>\n",
    "• Todas las clases serán grabadas<br>\n",
    "• La asistencia es obligatoria (máximo 15% de inasistencias)<br>\n",
    "• Importante el uso del aula virtual"
   ]
  },
  {
   "cell_type": "markdown",
   "metadata": {
    "slideshow": {
     "slide_type": "slide"
    }
   },
   "source": [
    "<center><img src='img/Calendario.png' style='height:800px;'></center>\n"
   ]
  },
  {
   "cell_type": "markdown",
   "metadata": {
    "slideshow": {
     "slide_type": "slide"
    }
   },
   "source": [
    "### Calificación\n",
    "\n",
    "• 1% Asistencia/Participación en cada clase (17 * 1)<br>\n",
    "• 5% Taller en cada clase (11 * 5)<br>\n",
    "• 8% Portafolio [Fecha de entrega: Diciembre 5]<br>\n",
    "• 5% Plan de Proyecto Final [Fecha de entrega: Octubre 3]<br>\n",
    "• 15% Proyecto Final [Fecha de entrega: Noviembre 28]<br>"
   ]
  },
  {
   "cell_type": "markdown",
   "metadata": {
    "slideshow": {
     "slide_type": "slide"
    }
   },
   "source": [
    "### Textos\n",
    "\n",
    "Los materiales necesarios serán publicados en el aula virtual.\n",
    "\n",
    "Para mayor información:\n",
    "\n",
    "<img src='img/libro1.jpg' style='height:400px; float: left; margin: 0px 15px 15px 0px'> \n",
    "<img src='img/libro2.jpg' style='height:400px; float: left; margin: 0px 15px 15px 0px'> \n",
    "<img src='img/libro3.jpg' style='height:400px; float: left; margin: 0px 15px 15px 0px'> "
   ]
  },
  {
   "cell_type": "markdown",
   "metadata": {
    "slideshow": {
     "slide_type": "slide"
    }
   },
   "source": [
    "# 🤔 ¿Para qué aprender NLP?"
   ]
  },
  {
   "cell_type": "markdown",
   "metadata": {
    "slideshow": {
     "slide_type": "slide"
    }
   },
   "source": [
    "### ¿Cómo le hablamos a Siri? ¿Siri habla español?\n",
    "\n",
    "<center><br>\n",
    "<img src='img/siri3.jpg' style='height:350px;'>"
   ]
  },
  {
   "cell_type": "markdown",
   "metadata": {
    "slideshow": {
     "slide_type": "notes"
    }
   },
   "source": [
    "Nosotros NO le hablamos a los asistentes virtuales en lenguaje de programación, le hablamos en nuestro idioma natural-- el idioma en el que todos nos comunicamos. \n",
    "\n",
    "Los computadores solo pueden procesar datos binarios-- 0s y 1s.\n",
    "\n",
    "¿Cómo hacemos para que las máquinas nos entiendan? Ahí es donde el Procesamiento de Lenguaje Natural (NLP) entra en acción."
   ]
  },
  {
   "cell_type": "markdown",
   "metadata": {
    "slideshow": {
     "slide_type": "slide"
    }
   },
   "source": [
    "### Textos y Big Data\n",
    "\n",
    "<center><br>\n",
    "<img src='img/Unstructured.png' style='height:350px;'>\n",
    "</center>\n",
    "\n",
    "• Existen más de 6.500 idiomas en el mundo.\n",
    "\n",
    "• 79% de los datos producidos son no estructurados --> La gran mayoría son textos.\n",
    "\n",
    "• Se están generando millones de datos en este momento: WhatsApp, Twitter, YouTube, etc."
   ]
  },
  {
   "cell_type": "markdown",
   "metadata": {
    "slideshow": {
     "slide_type": "notes"
    }
   },
   "source": [
    "Los idiomas son una forma de representar información y nosotros los humanos interpretamos esta información."
   ]
  },
  {
   "cell_type": "markdown",
   "metadata": {
    "slideshow": {
     "slide_type": "slide"
    }
   },
   "source": [
    "### NLP\n",
    "\n",
    "<center><br>\n",
    "<img src='img/nlp.png' style='height:350px;'>\n",
    "</center>\n",
    "\n",
    "• Es el área de las ciencias de la computación (inteligencia artificial) que se encarga de tratar con los lenguajes humanos y derivar información valiosa de ellos.\n",
    "\n",
    "• Existen docenas de métodos y estrategias para resolver un problema dado."
   ]
  },
  {
   "cell_type": "markdown",
   "metadata": {
    "slideshow": {
     "slide_type": "slide"
    }
   },
   "source": [
    "##### NLP en el mundo real\n",
    "# Modelado de lenguaje\n",
    "\n",
    "<center><br>\n",
    "<img src='img/task1.png' style='height:400px;'>\n",
    "</center>\n",
    "\n",
    "• Predecir una frase en base a la historia de las palabras anteriores. "
   ]
  },
  {
   "cell_type": "markdown",
   "metadata": {
    "slideshow": {
     "slide_type": "notes"
    }
   },
   "source": [
    "El objetivo de esta tarea es aprender la probabilidad de que una secuencia de palabras aparezcan en un lenguaje. \n",
    "\n",
    "Útil en: \n",
    "- Reconocimiento de patrones, reconocimiento de textos a mano, traducción, corrección de ortografía, funciones de auto-completar."
   ]
  },
  {
   "cell_type": "markdown",
   "metadata": {
    "slideshow": {
     "slide_type": "slide"
    }
   },
   "source": [
    "##### NLP en el mundo real\n",
    "# Clasificación de texto\n",
    "\n",
    "<center><br>\n",
    "<img src='img/spam.jpg' style='height:350px;'>\n",
    "</center>\n",
    "\n",
    "• Se encarga de poner los textos en diferentes categorias basado en su contenido.\n",
    "\n",
    "• Ejemplo más famoso: Correo basura o no."
   ]
  },
  {
   "cell_type": "markdown",
   "metadata": {
    "slideshow": {
     "slide_type": "notes"
    }
   },
   "source": [
    "La tarea más popular de NLP\n",
    "\n",
    "Análisis de sentimiento, basura o no, correo principal, etección de plagio, detección de bots."
   ]
  },
  {
   "cell_type": "markdown",
   "metadata": {
    "slideshow": {
     "slide_type": "slide"
    }
   },
   "source": [
    "##### NLP en el mundo real\n",
    "# Extracción de información\n",
    "\n",
    "<center><br>\n",
    "<img src='img/whatsapp.jpg' style='height:400px;'>\n",
    "</center>\n",
    "\n",
    "• Como su nombre lo dice, se encarga de extraer información relevante del texto.\n",
    "\n",
    "• Ejemplos: Eventos de calendario y entidades mencionadas."
   ]
  },
  {
   "cell_type": "markdown",
   "metadata": {
    "slideshow": {
     "slide_type": "slide"
    }
   },
   "source": [
    "##### NLP en el mundo real\n",
    "# Recuperación de información\n",
    "\n",
    "<center><br>\n",
    "<img src='img/klg.png' style='height:350px;'>\n",
    "</center>\n",
    "\n",
    "• Encontrar documentos en un conjunto de datos grande relevantes a la busqueda de un usuario. \n",
    "\n",
    "• Relacionado con los resumenes de texto."
   ]
  },
  {
   "cell_type": "markdown",
   "metadata": {
    "slideshow": {
     "slide_type": "slide"
    }
   },
   "source": [
    "##### NLP en el mundo real\n",
    "# Chatbots\n",
    "\n",
    "<center><br>\n",
    "<img src='img/chatbot.png' style='height:400px;'>\n",
    "</center>\n",
    "\n",
    "• Sistemas que pueden responder preguntas automáticamente. "
   ]
  },
  {
   "cell_type": "markdown",
   "metadata": {
    "slideshow": {
     "slide_type": "slide"
    }
   },
   "source": [
    "##### NLP en el mundo real\n",
    "# Traducción\n",
    "\n",
    "<center><br>\n",
    "<img src='img/deepl.png' style='height:400px;'>\n",
    "</center>"
   ]
  },
  {
   "cell_type": "markdown",
   "metadata": {
    "slideshow": {
     "slide_type": "slide"
    }
   },
   "source": [
    "##### NLP en el mundo real\n",
    "# Modelado de temas\n",
    "\n",
    "Ejemplo: [Aquí](http://vivianamarquez.com/Twitter1K/plots/ldaESP.html)\n",
    "\n",
    "• Descubrir la estructura de una colección de documentos. "
   ]
  },
  {
   "cell_type": "markdown",
   "metadata": {
    "slideshow": {
     "slide_type": "slide"
    }
   },
   "source": [
    "##### NLP en el mundo real\n",
    "# Monitoreo de redes sociales\n",
    "\n",
    "<center><br>\n",
    "<img src='img/redes.png' style='height:350px;'>\n",
    "</center>\n",
    "\n",
    "• Las empresas quieren entender a sus clientes (campañas de mercadeo específicas)\n",
    "\n",
    "• Tomar ventaja de la retroalimentación explícita e implícita de sus clientes."
   ]
  },
  {
   "cell_type": "markdown",
   "metadata": {
    "slideshow": {
     "slide_type": "slide"
    }
   },
   "source": [
    "##### NLP en el mundo real\n",
    "# ¡Y más!\n"
   ]
  },
  {
   "cell_type": "markdown",
   "metadata": {
    "slideshow": {
     "slide_type": "fragment"
    }
   },
   "source": [
    "# Todos los días surgen problemas únicos.\n"
   ]
  },
  {
   "cell_type": "markdown",
   "metadata": {
    "slideshow": {
     "slide_type": "fragment"
    }
   },
   "source": [
    "Análisis de emojis: \n",
    " - [Instagram](https://instagram-engineering.com/emojineering-part-1-machine-learning-for-emoji-trendsmachine-learning-for-emoji-trends-7f5f9cb979ad)\n",
    " \n",
    " - [Pucheros 🥺](https://blog.emojipedia.org/a-new-king-pleading-face/)\n",
    " \n",
    " - [Video](https://www.youtube.com/watch?v=Swa3yiNwDBA)"
   ]
  },
  {
   "cell_type": "markdown",
   "metadata": {
    "slideshow": {
     "slide_type": "slide"
    }
   },
   "source": [
    "# 😫 🤯 ¿Por qué es NLP difícil?\n"
   ]
  },
  {
   "cell_type": "markdown",
   "metadata": {
    "slideshow": {
     "slide_type": "slide"
    }
   },
   "source": [
    "<center><img src='img/fish.png'>\n",
    "<center>    \n",
    "    <big>El pez está listo para comer</big>\n",
    "</center>"
   ]
  },
  {
   "cell_type": "markdown",
   "metadata": {
    "slideshow": {
     "slide_type": "notes"
    }
   },
   "source": [
    "¿El pez está listo para ser comido o está listo para que le den de comer?"
   ]
  },
  {
   "cell_type": "markdown",
   "metadata": {
    "slideshow": {
     "slide_type": "fragment"
    }
   },
   "source": [
    "### Ambigüedad"
   ]
  },
  {
   "cell_type": "markdown",
   "metadata": {
    "slideshow": {
     "slide_type": "slide"
    }
   },
   "source": [
    "<center><img src='img/perro.jpg' style='height:350px;'>\n",
    "<center>    \n",
    "    <big>\"El perro mordió al hombre\" vs \"El hombre mordió al perro\"</big>\n",
    "</center>"
   ]
  },
  {
   "cell_type": "markdown",
   "metadata": {
    "slideshow": {
     "slide_type": "fragment"
    }
   },
   "source": [
    "### Conocimento popular"
   ]
  },
  {
   "cell_type": "markdown",
   "metadata": {
    "slideshow": {
     "slide_type": "slide"
    }
   },
   "source": [
    "<center><img src='img/jessica.png'>\n",
    "<center>    \n",
    "    <big>\"Jessica\"</big>\n",
    "</center>"
   ]
  },
  {
   "cell_type": "markdown",
   "metadata": {
    "slideshow": {
     "slide_type": "fragment"
    }
   },
   "source": [
    "### Creatividad"
   ]
  },
  {
   "cell_type": "markdown",
   "metadata": {
    "slideshow": {
     "slide_type": "slide"
    }
   },
   "source": [
    "<center><img src='img/tequiero.gif'>\n",
    "<center>    \n",
    "    <big>¿Cómo se dice \"Te quiero\" en inglés?</big>\n",
    "</center>"
   ]
  },
  {
   "cell_type": "markdown",
   "metadata": {
    "slideshow": {
     "slide_type": "fragment"
    }
   },
   "source": [
    "### Diversidad en los idiomas"
   ]
  },
  {
   "cell_type": "markdown",
   "metadata": {
    "slideshow": {
     "slide_type": "notes"
    }
   },
   "source": [
    "Empalagarse, estrenar, consuegro, antier"
   ]
  },
  {
   "cell_type": "markdown",
   "metadata": {
    "slideshow": {
     "slide_type": "slide"
    }
   },
   "source": [
    "### 🤓 Recapitulando: Hoy aprendímos...\n",
    "\n",
    "- ¿Qué es NLP?\n",
    "- Aplicaciones más populares en la vida real\n",
    "- Retos de NLP\n",
    "- (Github)"
   ]
  },
  {
   "cell_type": "markdown",
   "metadata": {
    "slideshow": {
     "slide_type": "slide"
    }
   },
   "source": [
    "# ¡Tiempo de taller!\n",
    "\n",
    "<center>\n",
    "<img src='img/Taller.gif'>"
   ]
  },
  {
   "cell_type": "markdown",
   "metadata": {
    "slideshow": {
     "slide_type": "fragment"
    }
   },
   "source": [
    "**Taller # 1:** Configuración inicial e introducción a NLP.\n",
    "\n",
    "**Fecha de entrega:** Agosto 22, 2020. (Antes del inicio de la próxima clase)"
   ]
  },
  {
   "cell_type": "markdown",
   "metadata": {
    "slideshow": {
     "slide_type": "slide"
    }
   },
   "source": [
    "#### Partes del taller:\n",
    "\n",
    "1. Instalación de Python (Anaconda)\n",
    "\n",
    "2. Crear cuenta de GitHub\n",
    "\n",
    "3. Obtener cuenta de desarrollador en Twitter.\n",
    "\n",
    "\n",
    "#### Formato de entrega: \n",
    "- Puntos 1-3, enviar pantallazo en el aula virtual.\n",
    "    \n",
    "(Nota: Punto 4 lo veremos en la siguiente clase)\n"
   ]
  },
  {
   "cell_type": "markdown",
   "metadata": {
    "slideshow": {
     "slide_type": "slide"
    }
   },
   "source": [
    "### Parte 1: Instalación de Python \n",
    "\n",
    "Instalar versión Anaconda --- Python 3.x\n",
    "\n",
    "https://www.anaconda.com/products/individual\n",
    "\n",
    "\n",
    "Aula virtual: \n",
    "- Abrir `Anaconda Power Shell` y tomar pantallazo del comando: ``python --version``\n",
    "- Pantallazo: ``jupyter notebook``\n",
    "\n",
    "<center>\n",
    "<img src='img/Pantallazo2.png' style='width:450px;'><img src='img/Jupyter.png' style='width:450px;'>"
   ]
  },
  {
   "cell_type": "markdown",
   "metadata": {
    "slideshow": {
     "slide_type": "slide"
    }
   },
   "source": [
    "### Parte 2: Crear cuenta de GitHub\n",
    "\n",
    "De preferencia, usar el email institucional (.edu)\n",
    "\n",
    "https://github.com/\n",
    "\n",
    "\n",
    "Aula virtual: \n",
    "- Pantallazo: Cuenta de GitHub con repositorio"
   ]
  },
  {
   "cell_type": "markdown",
   "metadata": {
    "slideshow": {
     "slide_type": "slide"
    }
   },
   "source": [
    "<img src='img/gh2.jpeg' style='height:300px; float: left; margin: 0px 30px 15px 0px'>  \n",
    "#### ¿Por qué usar GitHub?\n",
    "\n",
    "- Red social de los programadores\n",
    "- Portafolio virtual\n",
    "- Se utiliza en la industria\n",
    "- Control de versiones\n",
    "- Páginas web gratis"
   ]
  },
  {
   "cell_type": "markdown",
   "metadata": {
    "slideshow": {
     "slide_type": "slide"
    }
   },
   "source": [
    "<center><img src='img/fire.png' style='height:250px;'> </center>\n",
    "\n",
    "#### ¿Cómo usar GitHub? Lista de comandos más usados\n",
    "\n",
    "Ver documento ``Github 101``"
   ]
  },
  {
   "cell_type": "markdown",
   "metadata": {
    "slideshow": {
     "slide_type": "slide"
    }
   },
   "source": [
    "### Parte 3: Obtener cuenta de desarrollador en Twitter\n",
    "\n",
    "\n",
    "https://developer.twitter.com/en/apply-for-access\n",
    "\n",
    "\n",
    "Aula virtual: \n",
    "- Pantallazo: Aplicación a cuenta de desarrollador.\n",
    "- Si lo rechazan, volver a aplicar.\n",
    "\n",
    "<center>\n",
    "<img src='img/Twitter/twitterdev-tutorial-11.png' style='width:450px;'>"
   ]
  },
  {
   "cell_type": "markdown",
   "metadata": {
    "slideshow": {
     "slide_type": "slide"
    }
   },
   "source": [
    "### Parte 4: Calentando motores - Contar las palabras del documento de Google\n",
    "\n",
    "\n",
    "https://docs.google.com/spreadsheets/d/15CGVDsx96eJOivSEdcatWaCOmBO465soHz_gQ_q7LhA/edit?usp=sharing\n",
    "\n",
    "\n",
    "Instrucciones:\n",
    "1. Descargar en formato .csv el archivo.\n",
    "2. Leerlo en Jupyter usando Pandas.\n",
    "3. Contar el número de palabras por estudiante.\n",
    "4. Hallar la palabra más utilizada en todo el conjunto de datos.\n",
    "5. Subir el notebook a Github y enviar link al aula virtual."
   ]
  },
  {
   "cell_type": "markdown",
   "metadata": {
    "slideshow": {
     "slide_type": "slide"
    }
   },
   "source": [
    "<center>\n",
    "    <img src='img/fin.gif'>\n",
    "\n",
    "### Proxima clase: Adquisición de textos\n",
    "\n",
    "### Retroalimentación: \n",
    "\n",
    "<center><a href='https://pollev.com/vivianamarqu288'>https://pollev.com/vivianamarqu288</a></center>"
   ]
  }
 ],
 "metadata": {
  "kernelspec": {
   "display_name": "Python 3",
   "language": "python",
   "name": "python3"
  },
  "language_info": {
   "codemirror_mode": {
    "name": "ipython",
    "version": 3
   },
   "file_extension": ".py",
   "mimetype": "text/x-python",
   "name": "python",
   "nbconvert_exporter": "python",
   "pygments_lexer": "ipython3",
   "version": "3.7.4"
  }
 },
 "nbformat": 4,
 "nbformat_minor": 2
}
