{
 "cells": [
  {
   "cell_type": "markdown",
   "metadata": {
    "slideshow": {
     "slide_type": "slide"
    }
   },
   "source": [
    "<center><img src='img/nlp.jpg' style='height:300px; float: center; margin: 0px 15px 15px 0px'><center>\n",
    "\n",
    "### Adquisición de Textos\n",
    "#### NLP - Analítica Estratégica de Datos\n",
    "<br><b>Fundación Universitaria Konrad Lorenz</b>\n",
    "<br>Docente: Viviana Márquez [vivianam.penam@konradlorenz.edu.co](mailto:vivianam.penam@konradlorenz.edu.co)\n",
    "<br>Clase #2: Agosto 22, 2020"
   ]
  },
  {
   "cell_type": "markdown",
   "metadata": {
    "slideshow": {
     "slide_type": "slide"
    }
   },
   "source": [
    "<center><img src='img/meme.jpg'><center>"
   ]
  },
  {
   "cell_type": "markdown",
   "metadata": {
    "slideshow": {
     "slide_type": "slide"
    }
   },
   "source": [
    "### ⌛ En la clase anterior\n",
    "\n",
    "• Introducción a NLP<br>\n",
    "• GitHub<br>\n",
    "• Cuenta de desarrollador de Twitter<br>\n",
    "• Punto 4: \"Calentando motores\"\n",
    "\n",
    "https://pollev.com/vivianamarqu288"
   ]
  },
  {
   "cell_type": "markdown",
   "metadata": {
    "slideshow": {
     "slide_type": "notes"
    }
   },
   "source": [
    "https://developer.twitter.com/en/dashboard"
   ]
  },
  {
   "cell_type": "markdown",
   "metadata": {
    "slideshow": {
     "slide_type": "slide"
    }
   },
   "source": [
    "### 🚀 Hoy veremos...\n",
    "\n",
    "• Flujo de datos en un proyecto de NLP (pipeline)<br>\n",
    "• Paréntesis: Expectativas del proyecto final<br>\n",
    "• Métodos de adquisición de texto más comunes<br>\n",
    "• Taller #2"
   ]
  },
  {
   "cell_type": "markdown",
   "metadata": {
    "slideshow": {
     "slide_type": "notes"
    }
   },
   "source": [
    "    - Datos abiertos\n",
    "    - txt, csv, json, zip\n",
    "    - Excel, Word\n",
    "    - (HTML) Web Scraping \n",
    "    - PDFs e imágenes\n",
    "    - Aumento de datos"
   ]
  },
  {
   "cell_type": "markdown",
   "metadata": {
    "slideshow": {
     "slide_type": "slide"
    }
   },
   "source": [
    "### Flujo de datos en un proyecto de NLP (pipeline)\n",
    "\n",
    "<br><center><img src='img/pipeline.png'><center>"
   ]
  },
  {
   "cell_type": "markdown",
   "metadata": {
    "slideshow": {
     "slide_type": "notes"
    }
   },
   "source": [
    "Si en su empresa les piden desarrollar un proyecto, ¿cómo lo harían? \n",
    "\n",
    "Normalmente, revisaríamos los requerimientos y dividiríamos el problema en diferentes pasos; para luego crear una estrategía para resolver cada paso. \n",
    "\n",
    "Esto mismo se hace con los proyectos de *machine learning* y se le conoce como **pipeline** o **flujo de datos**. Aunque los detalles específicos varian de proyecto a proyecto, estos pasos son comunes y nos van a permitir comenzar cualquier proyecto de *machine learning*."
   ]
  },
  {
   "cell_type": "markdown",
   "metadata": {
    "slideshow": {
     "slide_type": "slide"
    }
   },
   "source": [
    "### Flujo de datos en un proyecto de NLP (pipeline)\n",
    "\n",
    "<br><center><img src='img/pipeline.png' style='height:250px; float: center; margin: 0px 15px 15px 0px'><center>\n",
    "\n",
    "#### Paso 1: Adquisición de datos\n",
    "<br>\n",
    "<center>Necesitamos adquirir datos relevantes a nuestro proyecto<br>\n",
    "😃 Eso es lo que haremos en la clase de hoy 😃<center>"
   ]
  },
  {
   "cell_type": "markdown",
   "metadata": {
    "slideshow": {
     "slide_type": "slide"
    }
   },
   "source": [
    "### Flujo de datos en un proyecto de NLP (pipeline)\n",
    "\n",
    "<br><center><img src='img/pipeline.png' style='height:250px; float: center; margin: 0px 15px 15px 0px'><center>\n",
    "\n",
    "#### Paso 2 y 3: Limpieza de Texto y Pre-Procesamiento\n",
    "<br>\n",
    "<center>Rara vez los datos están como los necesitamos, por lo tanto tenemos que hacer <br>limpieza y pre-procesamiento de estos para normalizarlos<br>\n",
    "    (Siguientes clases)<center>"
   ]
  },
  {
   "cell_type": "markdown",
   "metadata": {
    "slideshow": {
     "slide_type": "slide"
    }
   },
   "source": [
    "### Flujo de datos en un proyecto de NLP (pipeline)\n",
    "\n",
    "<br><center><img src='img/pipeline.png' style='height:250px; float: center; margin: 0px 15px 15px 0px'><center>\n",
    "\n",
    "#### Paso 4: Feature Engineering (Creación de Características)\n",
    "<br>\n",
    "<center>Creamos indicadores que son los más adecuados para nuestro proyecto y los convertimos en un formato que sea entendido por nuestro modelo/algoritmo<center>"
   ]
  },
  {
   "cell_type": "markdown",
   "metadata": {
    "slideshow": {
     "slide_type": "slide"
    }
   },
   "source": [
    "### Flujo de datos en un proyecto de NLP (pipeline)\n",
    "\n",
    "<br><center><img src='img/pipeline.png' style='height:250px; float: center; margin: 0px 15px 15px 0px'><center>\n",
    "\n",
    "#### Paso 5: Modelo\n",
    "<br>\n",
    "<center>Usualmente se crean varios modelos para poder escoger el mejor<center>"
   ]
  },
  {
   "cell_type": "markdown",
   "metadata": {
    "slideshow": {
     "slide_type": "slide"
    }
   },
   "source": [
    "### Flujo de datos en un proyecto de NLP (pipeline)\n",
    "\n",
    "<br><center><img src='img/pipeline.png' style='height:250px; float: center; margin: 0px 15px 15px 0px'><center>\n",
    "\n",
    "#### Paso 6: Evaluación del rendimiento del modelo\n",
    "<br>\n",
    "<center>Las métricas de rendimiento nos permiten escoger el modelo más adecuado y ajustar sus parámetros para mejorarlo. De ser necesario, podemos regresar y optimizar los primeros pasos<center>"
   ]
  },
  {
   "cell_type": "markdown",
   "metadata": {
    "slideshow": {
     "slide_type": "slide"
    }
   },
   "source": [
    "### Flujo de datos en un proyecto de NLP (pipeline)\n",
    "\n",
    "<br><center><img src='img/pipeline.png' style='height:250px; float: center; margin: 0px 15px 15px 0px'><center>\n",
    "\n",
    "#### Paso 7: Modelo en producción\n",
    "<br>\n",
    "<center>Una vez tenemos un buen modelo, pasamos a ponerlo en producción o socializar resultados<center>"
   ]
  },
  {
   "cell_type": "markdown",
   "metadata": {
    "slideshow": {
     "slide_type": "slide"
    }
   },
   "source": [
    "### Flujo de datos en un proyecto de NLP (pipeline)\n",
    "\n",
    "<br><center><img src='img/pipeline.png' style='height:250px; float: center; margin: 0px 15px 15px 0px'><center>\n",
    "\n",
    "#### Paso 8: Vigilancia y actualización\n",
    "<br>\n",
    "<center>Es buena práctica monitorear regularmente el rendimiento del modelo y actualizarlo para que siga dando buenos resultados<center>"
   ]
  },
  {
   "cell_type": "markdown",
   "metadata": {
    "slideshow": {
     "slide_type": "slide"
    }
   },
   "source": [
    "### 🚧 ✋ Expectativas del Proyecto Final\n",
    "\n",
    "**Modo:**<br>\n",
    "• Individual o de a parejas <br>\n",
    "• Exposición de 5 min - 10 min y repositorio de GitHub <br>\n",
    "• OCTUBRE 3 - Plan de Proyecto (Documento con descripción del proyecto: Datos, Objetivo, Modelo, Visualización)<br>\n",
    "• NOVIEMBRE 28 - Entrega Proyecto <br>\n",
    "• NOVIEMBRE 28, DICIEMBRE 5 - Exposiciones <br>\n",
    "\n",
    "**Proyecto:**<br>\n",
    "- Los datos pueden ser personales, del internet, o de su empresa (pedir permiso).\n",
    "- Tener objetivo claro\n",
    "- Pre-procesamiento \n",
    "- Modelo de NLP/Machine Learning\n",
    "- Visualización"
   ]
  },
  {
   "cell_type": "markdown",
   "metadata": {
    "slideshow": {
     "slide_type": "notes"
    }
   },
   "source": [
    "Ideas para conseguir datos: \n",
    "    - Personales: Diario, Blog, WhatsApp, Twitter, Slack.\n",
    "    - Del internet: \n",
    "        - Scraping de Twitter, portal de noticias, página de canciones, Wikipedia, forum. \n",
    "        - Github: [Política](https://github.com/dav009/LatinamericanTextResources)\n",
    "        - [Otro recurso] (https://lionbridge.ai/datasets/22-best-spanish-language-datasets-for-machine-learning/)\n",
    "    - Empresa"
   ]
  },
  {
   "cell_type": "markdown",
   "metadata": {
    "slideshow": {
     "slide_type": "slide"
    }
   },
   "source": [
    "# 👷🏽‍♀️ Adquisición de datos\n",
    "\n",
    "¿Cuáles son los tipos de archivos de texto más comunes? \n",
    "\n",
    "https://pollev.com/vivianamarqu288"
   ]
  },
  {
   "cell_type": "markdown",
   "metadata": {
    "slideshow": {
     "slide_type": "slide"
    }
   },
   "source": [
    "### 👷🏽‍♀️ Adquisición de datos: Un caso ideal\n",
    "\n",
    "<br>\n",
    "\n",
    "<center><img src='img/callcenter.jpg' style='height:300px; float: center; margin: 0px 15px 15px 0px'><center>\n",
    "\n",
    "• Tenemos que identificar si es una **consulta de servicio al cliente** vs una **consulta de venta**\n",
    "    \n",
    "• Para esta tarea, nuestra empresa tiene miles (incluso millones) de datos\n",
    "\n",
    "• Adicionalmente, cada uno de los datos están etiquetados\n",
    "\n",
    "• Sin embargo, la mayoría de proyectos no tienen tanta suerte 🙁"
   ]
  },
  {
   "cell_type": "markdown",
   "metadata": {
    "slideshow": {
     "slide_type": "slide"
    }
   },
   "source": [
    "### 👷🏽‍♀️ 1. Usar un conjunto de datos abiertos\n",
    "\n",
    "- GitHub\n",
    "- Kaggle: https://www.kaggle.com/\n",
    "- Búsqueda de datos de Google: https://datasetsearch.research.google.com/\n",
    "- Datos Abiertos Colombia: https://www.datos.gov.co/\n",
    "- Datos Abiertos Bogotá: https://datosabiertos.bogota.gov.co/about\n",
    "- Ministerio de Salud: https://www.minsalud.gov.co/Paginas/datos-abiertos.aspx"
   ]
  },
  {
   "cell_type": "markdown",
   "metadata": {
    "slideshow": {
     "slide_type": "slide"
    }
   },
   "source": [
    "### 👷🏽‍♀️ 2. Web Scraping\n",
    "\n",
    "<br>\n",
    "\n",
    "• Extraer datos de las páginas web, usualmente HTML\n",
    "\n",
    "<br>\n",
    "\n",
    "<hr style=\"height:1px;border:none;color:#333;background-color:#333;\">\n",
    "\n",
    "• ⚠️ Leer las reglas de uso de la página web y/o rotar proxys, simular comportamiento humano\n",
    "\n",
    "• Alternativa: APIs\n"
   ]
  },
  {
   "cell_type": "markdown",
   "metadata": {
    "slideshow": {
     "slide_type": "notes"
    }
   },
   "source": [
    "Otra forma de hacer scraping más sofisticada es con Selenium. Más info aquí: https://www.scrapingbee.com/blog/selenium-python/\n",
    "\n",
    "Si le pide instalar la libreria: `sudo pip install beautifulsoup4`\n",
    "Más info aquí: https://www.crummy.com/software/BeautifulSoup/bs4/doc/\n",
    "\n",
    "APIs"
   ]
  },
  {
   "cell_type": "markdown",
   "metadata": {
    "slideshow": {
     "slide_type": "slide"
    }
   },
   "source": [
    "### Repaso rápido de HTML\n",
    "\n",
    "Un documento de HTML tiene etiquetas las cuales permiten diferenciar las partes del archivo.\n",
    "\n",
    "Las más comunes/útiles son:\n",
    "- `<div>` División de una página\n",
    "- `<p>` Párrafo\n",
    "- `<a>` Links\n",
    "\n",
    "Un documento de HTML también tiene clases (`class`) y propiedades (`id`) las cuales nos permiten referirnos a un elemento en particular. \n",
    "\n",
    "```html\n",
    "<a href=\"http://www.google.com/\" id=\"buscador\">Google</a>\n",
    "```"
   ]
  },
  {
   "cell_type": "markdown",
   "metadata": {
    "slideshow": {
     "slide_type": "slide"
    }
   },
   "source": [
    "### Requests & Beautiful Soup\n",
    "\n",
    "- **Requests** permite descargar páginas web en Python\n",
    "\n",
    "- **Beautiful Soup** nos ayuda a procesar los contenidos de una página web de manera fácil. \n",
    "    - `find()`: Regresa la primera ocurrencia de una etiqueta.\n",
    "    - `find_all()`: Regresa todas las ocurrencias de nuestra equiqueta.\n",
    "    - `children`: Lista de las etiquetas anidadas."
   ]
  },
  {
   "cell_type": "markdown",
   "metadata": {
    "slideshow": {
     "slide_type": "slide"
    }
   },
   "source": [
    "#### Beautiful Soup"
   ]
  },
  {
   "cell_type": "code",
   "execution_count": 1,
   "metadata": {
    "slideshow": {
     "slide_type": "fragment"
    }
   },
   "outputs": [],
   "source": [
    "import bs4 as bs # Beautiful Soup"
   ]
  },
  {
   "cell_type": "markdown",
   "metadata": {
    "slideshow": {
     "slide_type": "fragment"
    }
   },
   "source": [
    "```html\n",
    "<div id=\"test\" class=\"text\" blah=\"valor\">¡Hola, mundo!</div>\n",
    "```"
   ]
  },
  {
   "cell_type": "code",
   "execution_count": 2,
   "metadata": {
    "slideshow": {
     "slide_type": "fragment"
    }
   },
   "outputs": [
    {
     "data": {
      "text/plain": [
       "<html><body><div blah=\"valor\" class=\"text\" id=\"test\">¡Hola, mundo!</div></body></html>"
      ]
     },
     "execution_count": 2,
     "metadata": {},
     "output_type": "execute_result"
    }
   ],
   "source": [
    "# Cargar documento \n",
    "ejemplo = bs.BeautifulSoup('<div id=\"test\" class=\"text\" blah=\"valor\">¡Hola, mundo!</div>')\n",
    "ejemplo"
   ]
  },
  {
   "cell_type": "code",
   "execution_count": 3,
   "metadata": {
    "slideshow": {
     "slide_type": "slide"
    }
   },
   "outputs": [
    {
     "data": {
      "text/plain": [
       "[<div blah=\"valor\" class=\"text\" id=\"test\">¡Hola, mundo!</div>]"
      ]
     },
     "execution_count": 3,
     "metadata": {},
     "output_type": "execute_result"
    }
   ],
   "source": [
    "# Diferentes maneras de encontrar etiquetas\n",
    "ejemplo.find_all('div')\n",
    "ejemplo.find_all(id='test')"
   ]
  },
  {
   "cell_type": "code",
   "execution_count": 4,
   "metadata": {
    "slideshow": {
     "slide_type": "fragment"
    }
   },
   "outputs": [
    {
     "data": {
      "text/plain": [
       "'test'"
      ]
     },
     "execution_count": 4,
     "metadata": {},
     "output_type": "execute_result"
    }
   ],
   "source": [
    "# Obtener atributos\n",
    "# ejemplo.get('id') # Error común, intentar hacerlo en todo el documento y no la etiqueta.\n",
    "ejemplo.find('div').get('id')"
   ]
  },
  {
   "cell_type": "code",
   "execution_count": 5,
   "metadata": {
    "slideshow": {
     "slide_type": "fragment"
    }
   },
   "outputs": [
    {
     "data": {
      "text/plain": [
       "['¡Hola, mundo!']"
      ]
     },
     "execution_count": 5,
     "metadata": {},
     "output_type": "execute_result"
    }
   ],
   "source": [
    "# Extraer contenido\n",
    "ejemplo.find('div').contents"
   ]
  },
  {
   "cell_type": "code",
   "execution_count": 6,
   "metadata": {
    "slideshow": {
     "slide_type": "fragment"
    }
   },
   "outputs": [
    {
     "data": {
      "text/plain": [
       "['¡Hola, mundo!']"
      ]
     },
     "execution_count": 6,
     "metadata": {},
     "output_type": "execute_result"
    }
   ],
   "source": [
    "# Etiquetas anidadas\n",
    "list(ejemplo.find('div').children)"
   ]
  },
  {
   "cell_type": "markdown",
   "metadata": {
    "slideshow": {
     "slide_type": "slide"
    }
   },
   "source": [
    "#### Requests"
   ]
  },
  {
   "cell_type": "code",
   "execution_count": 7,
   "metadata": {
    "slideshow": {
     "slide_type": "fragment"
    }
   },
   "outputs": [],
   "source": [
    "import urllib.request"
   ]
  },
  {
   "cell_type": "code",
   "execution_count": 8,
   "metadata": {
    "slideshow": {
     "slide_type": "fragment"
    }
   },
   "outputs": [],
   "source": [
    "link = \"https://stackoverflow.com/questions/415511/how-to-get-the-current-time-in-python\""
   ]
  },
  {
   "cell_type": "code",
   "execution_count": 9,
   "metadata": {
    "slideshow": {
     "slide_type": "fragment"
    }
   },
   "outputs": [],
   "source": [
    "# Descargar página web en Python\n",
    "request = urllib.request.urlopen(link)\n",
    "source = request.read() \n",
    "request.close()"
   ]
  },
  {
   "cell_type": "code",
   "execution_count": 10,
   "metadata": {
    "slideshow": {
     "slide_type": "notes"
    }
   },
   "outputs": [],
   "source": [
    "# source"
   ]
  },
  {
   "cell_type": "markdown",
   "metadata": {
    "slideshow": {
     "slide_type": "slide"
    }
   },
   "source": [
    "Ahora tenemos que procesar la página web como HTML"
   ]
  },
  {
   "cell_type": "code",
   "execution_count": 11,
   "metadata": {
    "slideshow": {
     "slide_type": "fragment"
    }
   },
   "outputs": [],
   "source": [
    "soup = bs.BeautifulSoup(source,'html.parser') "
   ]
  },
  {
   "cell_type": "code",
   "execution_count": 12,
   "metadata": {
    "slideshow": {
     "slide_type": "notes"
    }
   },
   "outputs": [],
   "source": [
    "# soup"
   ]
  },
  {
   "cell_type": "code",
   "execution_count": 13,
   "metadata": {
    "slideshow": {
     "slide_type": "notes"
    }
   },
   "outputs": [
    {
     "data": {
      "text/plain": [
       "'\\nfor respuesta in soup.find(id=\\'answers\\').find_all(class_=\"answer\"):\\n    print(respuesta)\\n    print(\"*\"*100)\\n    print()\\n'"
      ]
     },
     "execution_count": 13,
     "metadata": {},
     "output_type": "execute_result"
    }
   ],
   "source": [
    "'''\n",
    "for respuesta in soup.find(id='answers').find_all(class_=\"answer\"):\n",
    "    print(respuesta)\n",
    "    print(\"*\"*100)\n",
    "    print()\n",
    "'''"
   ]
  },
  {
   "cell_type": "code",
   "execution_count": 15,
   "metadata": {
    "slideshow": {
     "slide_type": "fragment"
    }
   },
   "outputs": [
    {
     "name": "stdout",
     "output_type": "stream",
     "text": [
      "['Use:']\n",
      "['And just the time:']\n",
      "['See ', <a href=\"https://docs.python.org/3/library/datetime.html\" rel=\"noreferrer\"><strong>the documentation</strong></a>, ' for more information.']\n",
      "['To save typing, you can import the ', <code>datetime</code>, ' object from the ', <code>datetime</code>, ' module:']\n",
      "['Then remove the leading ', <code>datetime.</code>, ' from all of the above.']\n",
      "****************************************************************************************************\n",
      "\n",
      "['You can use ', <a href=\"http://docs.python.org/3.3/library/time.html?highlight=time.strftime#time.strftime\" rel=\"noreferrer\"><code>time.strftime()</code></a>, ':    ']\n",
      "****************************************************************************************************\n",
      "\n",
      "['For this example, the output will be like this: ', <code>'2013-09-18 11:16:32'</code>]\n",
      "['Here is the list of ', <a href=\"https://docs.python.org/library/datetime.html#strftime-and-strptime-format-codes\" rel=\"noreferrer\"><code>strftime</code> directives</a>, '.']\n",
      "****************************************************************************************************\n",
      "\n",
      "['Similar to ', <a href=\"https://stackoverflow.com/questions/415511/how-to-get-current-time-in-python/415519#415519\">Harley's answer</a>, ', but use the ', <code>str()</code>, ' function for a quick-n-dirty, slightly more human readable format:']\n",
      "****************************************************************************************************\n",
      "\n",
      "['The ', <code>time</code>, ' module provides functions that tells us the time in \"seconds since the epoch\" as well as other utilities.']\n",
      "[\"This is the format you should get timestamps in for saving in databases. It is a simple floating point number that can be converted to an integer. It is also good for arithmetic in seconds, as it represents the number of seconds since Jan 1, 1970 00:00:00, and it is memory light relative to the other representations of time we'll be looking at next:\"]\n",
      "[\"This timestamp does not account for leap-seconds, so it's not linear - leap seconds are ignored. So while it is not equivalent to the international UTC standard, it is close, and therefore quite good for most cases of record-keeping. \"]\n",
      "[\"This is not ideal for human scheduling, however. If you have a future event you wish to take place at a certain point in time, you'll want to store that time with a string that can be parsed into a datetime object or a serialized datetime object (these will be described later).\"]\n",
      "[\"You can also represent the current time in the way preferred by your operating system (which means it can change when you change your system preferences, so don't rely on this to be standard across all systems, as I've seen others expect). This is typically user friendly, but doesn't typically result in strings one can sort chronologically:\"]\n",
      "['You can hydrate timestamps into human readable form with ', <code>ctime</code>, ' as well:']\n",
      "['This conversion is also not good for record-keeping (except in text that will only be parsed by humans - and with improved Optical Character Recognition and Artificial Intelligence, I think the number of these cases will diminish).']\n",
      "['The ', <code>datetime</code>, ' module is also quite useful here:']\n",
      "['The ', <code>datetime.now</code>, ' is a class method that returns the current time. It uses the ', <code>time.localtime</code>, ' without the timezone info (if not given, otherwise see timezone aware below). It has a representation (which would allow you to recreate an equivalent object) echoed on the shell, but when printed (or coerced to a ', <code>str</code>, '), it is in human readable (and nearly ISO) format, and the lexicographic sort is equivalent to the chronological sort:']\n",
      "['You can get a datetime object in UTC time, a global standard, by doing this:']\n",
      "['UTC is a time standard that is nearly equivalent to the GMT timezone. (While GMT and UTC do not change for Daylight Savings Time, their users may switch to other timezones, like British Summer Time, during the Summer.) ']\n",
      "[\"However, none of the datetime objects we've created so far can be easily converted to various timezones. We can solve that problem with the \", <code>pytz</code>, ' module:']\n",
      "['Equivalently, in Python 3 we have the ', <code>timezone</code>, ' class with a utc ', <code>timezone</code>, ' instance attached, which also makes the object timezone aware (but to convert to another timezone without the handy ', <code>pytz</code>, ' module is left as an exercise to the reader):']\n",
      "['And we see we can easily convert to timezones from the original utc object.']\n",
      "['You can also make a naive datetime object aware with the ', <code>pytz</code>, ' timezone ', <code>localize</code>, ' method, or by replacing the tzinfo attribute (with ', <code>replace</code>, ', this is done blindly), but these are more last resorts than best practices:']\n",
      "['The ', <code>pytz</code>, ' module allows us to make our ', <code>datetime</code>, ' objects timezone aware and convert the times to the hundreds of timezones available in the ', <code>pytz</code>, ' module.']\n",
      "['One could ostensibly serialize this object for UTC time and store ', <em>that</em>, ' in a database, but it would require far more memory and be more prone to error than simply storing the Unix Epoch time, which I demonstrated first. ']\n",
      "['The other ways of viewing times are much more error prone, especially when dealing with data that may come from different time zones. You want there to be no confusion as to which timezone a string or serialized datetime object was intended for.']\n",
      "[\"If you're displaying the time with Python for the user, \", <code>ctime</code>, \" works nicely, not in a table (it doesn't typically sort well), but perhaps in a clock. However, I personally recommend, when dealing with time in Python, either using Unix time, or a timezone aware UTC \", <code>datetime</code>, ' object. ']\n",
      "****************************************************************************************************\n",
      "\n",
      "['Do']\n",
      "['There is some difference for Unix and Windows platforms.']\n",
      "****************************************************************************************************\n",
      "\n",
      "['That outputs the current GMT in the specified format. There is also a ', <a href=\"https://docs.python.org/3/library/time.html#time.localtime\" rel=\"noreferrer\"><code>localtime()</code></a>, ' method. ']\n",
      "['This ', <a href=\"http://docs.python.org/library/time.html#module-time\" rel=\"noreferrer\">page</a>, ' has more details.']\n",
      "****************************************************************************************************\n",
      "\n",
      "['The previous answers are all good suggestions, but I find it easiest to use ', <code>ctime()</code>, ':']\n",
      "['This gives a nicely formatted string representation of the current local time. ']\n",
      "****************************************************************************************************\n",
      "\n",
      "['The quickest way is:']\n",
      "****************************************************************************************************\n",
      "\n",
      "['If you need current time as a ', <code>time</code>, ' object:']\n",
      "****************************************************************************************************\n",
      "\n",
      "[<code>.isoformat()</code>, \" is in the documentation, but not yet here\\n(this is mighty similar to @Ray Vega's answer):\"]\n",
      "****************************************************************************************************\n",
      "\n",
      "['Why not ask the ', <a href=\"http://tycho.usno.navy.mil/cgi-bin/timer.pl\">U.S. Naval Observatory</a>, ', the official timekeeper of the United States Navy?']\n",
      "['If you live in the D.C. area (like me) the latency might not be too bad...']\n",
      "****************************************************************************************************\n",
      "\n",
      "['Using ', <a href=\"https://en.wikipedia.org/wiki/Pandas_%28software%29\" rel=\"noreferrer\">pandas</a>, ' to get the current time, kind of overkilling the problem at hand:']\n",
      "['Output:']\n",
      "****************************************************************************************************\n",
      "\n",
      "['This is what I ended up going with: ']\n",
      "['Also, this table is a necessary reference for choosing the appropriate format codes to get the date formatted just the way you want it (from Python \"datetime\" documentation ', <a href=\"https://docs.python.org/2/library/datetime.html#strftime-strptime-behavior\" rel=\"noreferrer\">here</a>, ').']\n",
      "[<img alt=\"strftime format code table\" src=\"https://i.stack.imgur.com/i6Hg7.jpg\"/>]\n",
      "****************************************************************************************************\n",
      "\n",
      "['if you are using numpy already then directly you can use numpy.datetime64() \\nfunction.']\n",
      "['for only date:']\n",
      "['or, if you are using pandas already then you can use pandas.to_datetime() function']\n",
      "['or,']\n",
      "****************************************************************************************************\n",
      "\n",
      "['You can use the ', <code>time</code>, ' module:']\n",
      "['The use of the capital ', <code>Y</code>, ' gives the full year, and using ', <code>y</code>, ' would give ', <code>06/02/15</code>, '.']\n",
      "['You could also use the following code to give a more lengthy time:']\n",
      "****************************************************************************************************\n",
      "\n",
      "[<code>datetime.now()</code>, ' returns the current time as a naive datetime object that represents time in the local timezone. That value may be ambiguous e.g., during DST transitions (\"fall back\"). To avoid ambiguity either UTC timezone should be used:']\n",
      "['Or a timezone-aware object that has the corresponding timezone info attached (Python 3.2+):']\n",
      "****************************************************************************************************\n",
      "\n",
      "['Do ', <code>dir(date)</code>, ' or any variables including the package. You can get all the attributes and methods associated with the variable.']\n",
      "****************************************************************************************************\n",
      "\n",
      "****************************************************************************************************\n",
      "\n",
      "['By default, ', <code>now()</code>, ' function returns output in the ', <code>YYYY-MM-DD HH:MM:SS:MS</code>, ' format. Use the below sample script to get the current date and time in a Python script and print results on the screen. Create file ', <code>getDateTime1.py</code>, ' with the below content.']\n",
      "['The output looks like below:']\n",
      "****************************************************************************************************\n",
      "\n",
      "[\"This question doesn't need a new answer just for the sake of it ... a shiny new-ish toy/module, however, is enough justification.  That being the \", <a href=\"https://pendulum.eustace.io/docs/\" rel=\"nofollow noreferrer\">Pendulum library</a>, ', which appears to do the sort of things which arrow attempted, except without the inherent flaws and bugs which beset arrow.']\n",
      "['For instance, the answer to the original question:']\n",
      "[\"There's a lot of standards which need addressing, including multiple RFCs and ISOs, to worry about.  Ever get them mixed up; not to worry, take a little look into \", <code>dir(pendulum.constants)</code>, \" There's a bit more than RFC and ISO formats there, though.\"]\n",
      "['When we say local, though what do we mean?  Well I mean:']\n",
      "['Presumably most of the rest of you mean somewhere else.']\n",
      "[\"And on it goes.  Long story short: Pendulum attempts to do for date and time what requests did for HTTP.  It's worth consideration, particularly for both its ease of use and extensive documentation.\"]\n",
      "****************************************************************************************************\n",
      "\n",
      "[<strong>Current time of a timezone</strong>]\n",
      "****************************************************************************************************\n",
      "\n",
      "['Try the arrow module from ', <a href=\"http://crsmithdev.com/arrow/\" rel=\"noreferrer\">http://crsmithdev.com/arrow/</a>, ':']\n",
      "['Or the UTC version:']\n",
      "['To change its output, add .format():']\n",
      "['For a specific timezone:']\n",
      "['An hour ago:']\n",
      "['Or if you want the gist.']\n",
      "****************************************************************************************************\n",
      "\n",
      "['I want to get the time with milliseconds. A simple way to get them:']\n",
      "['But I want ', <strong>only milliseconds</strong>, ', right? The shortest way to get them:']\n",
      "['Add or remove zeroes from the last multiplication to adjust number of decimal points, or just:']\n",
      "****************************************************************************************************\n",
      "\n",
      "['If you just want the current timestamp in ms (for example, to measure execution time), you can also use the \"timeit\" module:']\n",
      "****************************************************************************************************\n",
      "\n",
      "[\"You can use this function to get the time (unfortunately it doesn't say AM or PM):\"]\n",
      "['To get the hours, minutes, seconds and milliseconds to merge later, you can use these functions:']\n",
      "[<em>Hour:</em>]\n",
      "[<em>Minute:</em>]\n",
      "[<em>Second:</em>]\n",
      "[<em>Millisecond:</em>]\n",
      "****************************************************************************************************\n",
      "\n",
      "[\"Because no one has mentioned it yet, and this is something I ran into recently... a pytz timezone's fromutc() method combined with datetime's utcnow() is the best way I've found to get a useful current time (and date) in any timezone.\"]\n",
      "['If all you want is the time, you can then get that with ', <code>local_time.time()</code>, '.']\n",
      "****************************************************************************************************\n",
      "\n",
      "[\"The following is what I use to get the time without having to format. Some people don't like the split method, but it is useful here:\"]\n",
      "['It will print in HH:MM:SS format.']\n",
      "****************************************************************************************************\n",
      "\n",
      "[<strong>date</strong>, ' will print date and ', <strong>time</strong>, ' will print time.']\n",
      "****************************************************************************************************\n",
      "\n",
      "['This question is for Python but since Django is one of the most widely used frameworks for Python, its important to note that if you are using Django you can always use ', <code>timezone.now()</code>, ' instead of ', <code>datetime.datetime.now()</code>, \". The former is timezone 'aware' while the latter is not. \"]\n",
      "['See ', <a href=\"https://stackoverflow.com/a/26950056/1526703\">this SO answer</a>, ' and the ', <a href=\"https://docs.djangoproject.com/en/dev/topics/i18n/timezones/#naive-and-aware-datetime-objects\" rel=\"noreferrer\">Django doc</a>, ' for details and rationale behind ', <code>timezone.now()</code>, '.']\n",
      "****************************************************************************************************\n",
      "\n"
     ]
    }
   ],
   "source": [
    "for respuesta in soup.find(id='answers').find_all(class_=\"answer\"):\n",
    "    # En canda respuesta buscar la clase post-text\n",
    "    for texto in respuesta.find_all(class_=\"post-text\"):\n",
    "        for parrafo in texto.find_all('p'):\n",
    "            print(parrafo.contents)\n",
    "    print(\"*\"*100)\n",
    "    print()"
   ]
  },
  {
   "cell_type": "markdown",
   "metadata": {
    "slideshow": {
     "slide_type": "slide"
    }
   },
   "source": [
    "### 👷🏽‍♀️ 3. Archivos más comunes\n",
    "\n",
    "#### Archivos tipo `.csv` (Comma Separated Value)"
   ]
  },
  {
   "cell_type": "code",
   "execution_count": 19,
   "metadata": {
    "slideshow": {
     "slide_type": "fragment"
    }
   },
   "outputs": [],
   "source": [
    "import pandas as pd"
   ]
  },
  {
   "cell_type": "code",
   "execution_count": 147,
   "metadata": {
    "slideshow": {
     "slide_type": "fragment"
    }
   },
   "outputs": [
    {
     "data": {
      "text/html": [
       "<div>\n",
       "<style scoped>\n",
       "    .dataframe tbody tr th:only-of-type {\n",
       "        vertical-align: middle;\n",
       "    }\n",
       "\n",
       "    .dataframe tbody tr th {\n",
       "        vertical-align: top;\n",
       "    }\n",
       "\n",
       "    .dataframe thead th {\n",
       "        text-align: right;\n",
       "    }\n",
       "</style>\n",
       "<table border=\"1\" class=\"dataframe\">\n",
       "  <thead>\n",
       "    <tr style=\"text-align: right;\">\n",
       "      <th></th>\n",
       "      <th>sepal_length</th>\n",
       "      <th>sepal_width</th>\n",
       "      <th>petal_length</th>\n",
       "      <th>petal_width</th>\n",
       "      <th>species</th>\n",
       "    </tr>\n",
       "  </thead>\n",
       "  <tbody>\n",
       "    <tr>\n",
       "      <td>0</td>\n",
       "      <td>5.1</td>\n",
       "      <td>3.5</td>\n",
       "      <td>1.4</td>\n",
       "      <td>0.2</td>\n",
       "      <td>setosa</td>\n",
       "    </tr>\n",
       "    <tr>\n",
       "      <td>1</td>\n",
       "      <td>4.9</td>\n",
       "      <td>3.0</td>\n",
       "      <td>1.4</td>\n",
       "      <td>0.2</td>\n",
       "      <td>setosa</td>\n",
       "    </tr>\n",
       "    <tr>\n",
       "      <td>2</td>\n",
       "      <td>4.7</td>\n",
       "      <td>3.2</td>\n",
       "      <td>1.3</td>\n",
       "      <td>0.2</td>\n",
       "      <td>setosa</td>\n",
       "    </tr>\n",
       "    <tr>\n",
       "      <td>3</td>\n",
       "      <td>4.6</td>\n",
       "      <td>3.1</td>\n",
       "      <td>1.5</td>\n",
       "      <td>0.2</td>\n",
       "      <td>setosa</td>\n",
       "    </tr>\n",
       "    <tr>\n",
       "      <td>4</td>\n",
       "      <td>5.0</td>\n",
       "      <td>3.6</td>\n",
       "      <td>1.4</td>\n",
       "      <td>0.2</td>\n",
       "      <td>setosa</td>\n",
       "    </tr>\n",
       "  </tbody>\n",
       "</table>\n",
       "</div>"
      ],
      "text/plain": [
       "   sepal_length  sepal_width  petal_length  petal_width species\n",
       "0           5.1          3.5           1.4          0.2  setosa\n",
       "1           4.9          3.0           1.4          0.2  setosa\n",
       "2           4.7          3.2           1.3          0.2  setosa\n",
       "3           4.6          3.1           1.5          0.2  setosa\n",
       "4           5.0          3.6           1.4          0.2  setosa"
      ]
     },
     "execution_count": 147,
     "metadata": {},
     "output_type": "execute_result"
    }
   ],
   "source": [
    "df = pd.read_csv(\"archivos/iris.csv\")\n",
    "df.head()"
   ]
  },
  {
   "cell_type": "code",
   "execution_count": 22,
   "metadata": {
    "slideshow": {
     "slide_type": "fragment"
    }
   },
   "outputs": [],
   "source": [
    "pd.read_csv?"
   ]
  },
  {
   "cell_type": "code",
   "execution_count": 83,
   "metadata": {
    "slideshow": {
     "slide_type": "fragment"
    }
   },
   "outputs": [
    {
     "data": {
      "text/plain": [
       "'setosa setosa setosa setosa setosa setosa setosa setosa setosa setosa setosa setosa setosa setosa setosa setosa setosa setosa setosa setosa setosa setosa setosa setosa setosa setosa setosa setosa setosa setosa setosa setosa setosa setosa setosa setosa setosa setosa setosa setosa setosa setosa setosa setosa setosa setosa setosa setosa setosa setosa versicolor versicolor versicolor versicolor versicolor versicolor versicolor versicolor versicolor versicolor versicolor versicolor versicolor versicolor versicolor versicolor versicolor versicolor versicolor versicolor versicolor versicolor versicolor versicolor versicolor versicolor versicolor versicolor versicolor versicolor versicolor versicolor versicolor versicolor versicolor versicolor versicolor versicolor versicolor versicolor versicolor versicolor versicolor versicolor versicolor versicolor versicolor versicolor versicolor versicolor virginica virginica virginica virginica virginica virginica virginica virginica virginica virginica virginica virginica virginica virginica virginica virginica virginica virginica virginica virginica virginica virginica virginica virginica virginica virginica virginica virginica virginica virginica virginica virginica virginica virginica virginica virginica virginica virginica virginica virginica virginica virginica virginica virginica virginica virginica virginica virginica virginica virginica'"
      ]
     },
     "execution_count": 83,
     "metadata": {},
     "output_type": "execute_result"
    }
   ],
   "source": [
    "df.species.str.cat(sep=\" \")"
   ]
  },
  {
   "cell_type": "markdown",
   "metadata": {
    "slideshow": {
     "slide_type": "slide"
    }
   },
   "source": [
    "### 👷🏽‍♀️ 3. Archivos más comunes\n",
    "\n",
    "#### Archivos tipo `.txt`"
   ]
  },
  {
   "cell_type": "code",
   "execution_count": 36,
   "metadata": {
    "slideshow": {
     "slide_type": "fragment"
    }
   },
   "outputs": [],
   "source": [
    "with open(\"archivos/grabacion.txt\") as archivo: \n",
    "    data = archivo.read()"
   ]
  },
  {
   "cell_type": "code",
   "execution_count": 37,
   "metadata": {
    "slideshow": {
     "slide_type": "fragment"
    }
   },
   "outputs": [
    {
     "name": "stdout",
     "output_type": "stream",
     "text": [
      "© - Derechos Reservados: La presente obra, y todos sus contenidos, se encuentran protegidos por la normativa nacional e internacional vigente sobre propiedad Intelectual, por lo tanto su utilización parcial o total, reproducción, comunicación pública, transformación, distribución, alquiler, préstamo público e importación, total o parcial, en todo o en parte, en formato impreso o digital y en cualquier formato conocido o por conocer, se encuentran prohibidos, y solo serán lícitos en la medida en que se cuente con la autorización previa y expresa por escrito de la Fundación Universitaria Konrad Lorenz. Así mismo, de acuerdo con la normativa referente al habeas data, la utilización de la imagen de las personas, docentes o estudiantes, sin su previa autorización está expresamente prohibida. En caso de incumplirse con lo mencionado, se procederá de conformidad con los reglamentos de la Institución, sin perjuicio de las demás acciones legales aplicables. \n"
     ]
    }
   ],
   "source": [
    "print(data)"
   ]
  },
  {
   "cell_type": "markdown",
   "metadata": {
    "slideshow": {
     "slide_type": "slide"
    }
   },
   "source": [
    "### 👷🏽‍♀️ 3. Archivos más comunes\n",
    "\n",
    "#### Archivos tipo `.json`"
   ]
  },
  {
   "cell_type": "code",
   "execution_count": 149,
   "metadata": {
    "slideshow": {
     "slide_type": "fragment"
    }
   },
   "outputs": [],
   "source": [
    "import json"
   ]
  },
  {
   "cell_type": "code",
   "execution_count": 150,
   "metadata": {
    "slideshow": {
     "slide_type": "fragment"
    }
   },
   "outputs": [],
   "source": [
    "with open('archivos/sistemas_operativos.json') as archivo:\n",
    "    data = json.load(archivo)"
   ]
  },
  {
   "cell_type": "code",
   "execution_count": 152,
   "metadata": {
    "slideshow": {
     "slide_type": "fragment"
    }
   },
   "outputs": [
    {
     "data": {
      "text/plain": [
       "[{'Name': 'Debian',\n",
       "  'Version': '9',\n",
       "  'Install': 'apt',\n",
       "  'Owner': 'SPI',\n",
       "  'Kernel': '4.9'},\n",
       " {'Name': 'Ubuntu',\n",
       "  'Version': '17.10',\n",
       "  'Install': 'apt',\n",
       "  'Owner': 'Canonical',\n",
       "  'Kernel': '4.13'},\n",
       " {'Name': 'Fedora',\n",
       "  'Version': '26',\n",
       "  'Install': 'dnf',\n",
       "  'Owner': 'Red Hat',\n",
       "  'Kernel': '4.13'}]"
      ]
     },
     "execution_count": 152,
     "metadata": {},
     "output_type": "execute_result"
    }
   ],
   "source": [
    "data[:3]"
   ]
  },
  {
   "cell_type": "code",
   "execution_count": 47,
   "metadata": {
    "slideshow": {
     "slide_type": "slide"
    }
   },
   "outputs": [
    {
     "data": {
      "text/html": [
       "<div>\n",
       "<style scoped>\n",
       "    .dataframe tbody tr th:only-of-type {\n",
       "        vertical-align: middle;\n",
       "    }\n",
       "\n",
       "    .dataframe tbody tr th {\n",
       "        vertical-align: top;\n",
       "    }\n",
       "\n",
       "    .dataframe thead th {\n",
       "        text-align: right;\n",
       "    }\n",
       "</style>\n",
       "<table border=\"1\" class=\"dataframe\">\n",
       "  <thead>\n",
       "    <tr style=\"text-align: right;\">\n",
       "      <th></th>\n",
       "      <th>Name</th>\n",
       "      <th>Version</th>\n",
       "      <th>Install</th>\n",
       "      <th>Owner</th>\n",
       "      <th>Kernel</th>\n",
       "    </tr>\n",
       "  </thead>\n",
       "  <tbody>\n",
       "    <tr>\n",
       "      <td>0</td>\n",
       "      <td>Debian</td>\n",
       "      <td>9</td>\n",
       "      <td>apt</td>\n",
       "      <td>SPI</td>\n",
       "      <td>4.9</td>\n",
       "    </tr>\n",
       "    <tr>\n",
       "      <td>1</td>\n",
       "      <td>Ubuntu</td>\n",
       "      <td>17.10</td>\n",
       "      <td>apt</td>\n",
       "      <td>Canonical</td>\n",
       "      <td>4.13</td>\n",
       "    </tr>\n",
       "    <tr>\n",
       "      <td>2</td>\n",
       "      <td>Fedora</td>\n",
       "      <td>26</td>\n",
       "      <td>dnf</td>\n",
       "      <td>Red Hat</td>\n",
       "      <td>4.13</td>\n",
       "    </tr>\n",
       "    <tr>\n",
       "      <td>3</td>\n",
       "      <td>CentOS</td>\n",
       "      <td>7</td>\n",
       "      <td>yum</td>\n",
       "      <td>Red Hat</td>\n",
       "      <td>3.10</td>\n",
       "    </tr>\n",
       "    <tr>\n",
       "      <td>4</td>\n",
       "      <td>OpenSUSE</td>\n",
       "      <td>42.3</td>\n",
       "      <td>zypper</td>\n",
       "      <td>Novell</td>\n",
       "      <td>4.4</td>\n",
       "    </tr>\n",
       "    <tr>\n",
       "      <td>5</td>\n",
       "      <td>Arch Linux</td>\n",
       "      <td>Rolling Release</td>\n",
       "      <td>pacman</td>\n",
       "      <td>SPI</td>\n",
       "      <td>4.13</td>\n",
       "    </tr>\n",
       "    <tr>\n",
       "      <td>6</td>\n",
       "      <td>Gentoo</td>\n",
       "      <td>Rolling Release</td>\n",
       "      <td>emerge</td>\n",
       "      <td>Gentoo Foundation</td>\n",
       "      <td>4.12</td>\n",
       "    </tr>\n",
       "  </tbody>\n",
       "</table>\n",
       "</div>"
      ],
      "text/plain": [
       "         Name          Version Install              Owner Kernel\n",
       "0      Debian                9     apt                SPI    4.9\n",
       "1      Ubuntu            17.10     apt          Canonical   4.13\n",
       "2      Fedora               26     dnf            Red Hat   4.13\n",
       "3      CentOS                7     yum            Red Hat   3.10\n",
       "4    OpenSUSE             42.3  zypper             Novell    4.4\n",
       "5  Arch Linux  Rolling Release  pacman                SPI   4.13\n",
       "6      Gentoo  Rolling Release  emerge  Gentoo Foundation   4.12"
      ]
     },
     "execution_count": 47,
     "metadata": {},
     "output_type": "execute_result"
    }
   ],
   "source": [
    "from pandas.io.json import json_normalize\n",
    "json_normalize(data)"
   ]
  },
  {
   "cell_type": "markdown",
   "metadata": {
    "slideshow": {
     "slide_type": "slide"
    }
   },
   "source": [
    "### 👷🏽‍♀️ 3. Archivos más comunes\n",
    "\n",
    "#### Archivos tipo `.zip` (archivos anidados)"
   ]
  },
  {
   "cell_type": "code",
   "execution_count": 60,
   "metadata": {
    "slideshow": {
     "slide_type": "fragment"
    }
   },
   "outputs": [],
   "source": [
    "import os\n",
    "from zipfile import ZipFile "
   ]
  },
  {
   "cell_type": "code",
   "execution_count": 61,
   "metadata": {
    "slideshow": {
     "slide_type": "fragment"
    }
   },
   "outputs": [],
   "source": [
    "direccion = 'archivos/poemas.zip'"
   ]
  },
  {
   "cell_type": "code",
   "execution_count": 67,
   "metadata": {
    "code_folding": [],
    "slideshow": {
     "slide_type": "fragment"
    }
   },
   "outputs": [],
   "source": [
    "# Descomprimir el archivo ZIP\n",
    "with ZipFile(direccion) as archivo: \n",
    "    archivo.extractall('archivos/') "
   ]
  },
  {
   "cell_type": "markdown",
   "metadata": {
    "slideshow": {
     "slide_type": "slide"
    }
   },
   "source": [
    "Para ver el nombre de los archivos:"
   ]
  },
  {
   "cell_type": "code",
   "execution_count": 77,
   "metadata": {
    "code_folding": [],
    "slideshow": {
     "slide_type": "fragment"
    }
   },
   "outputs": [
    {
     "name": "stdout",
     "output_type": "stream",
     "text": [
      "('archivos/poemas', [], ['Si╠ündrome (Mario Benedetti).txt', 'Aqui╠ü (Octavio Paz).txt', 'A un general (Julio Corta╠üzar).txt'])\n"
     ]
    }
   ],
   "source": [
    "for archivo in os.walk('archivos/poemas'):\n",
    "    print(archivo)"
   ]
  },
  {
   "cell_type": "code",
   "execution_count": 70,
   "metadata": {
    "slideshow": {
     "slide_type": "fragment"
    }
   },
   "outputs": [
    {
     "name": "stdout",
     "output_type": "stream",
     "text": [
      "Si╠ündrome (Mario Benedetti).txt\n",
      "Aqui╠ü (Octavio Paz).txt\n",
      "A un general (Julio Corta╠üzar).txt\n"
     ]
    }
   ],
   "source": [
    "for raiz, dirs, archivos in os.walk('archivos/poemas'):\n",
    "        for archivo in archivos:\n",
    "            print(archivo)"
   ]
  },
  {
   "cell_type": "code",
   "execution_count": null,
   "metadata": {
    "slideshow": {
     "slide_type": "notes"
    }
   },
   "outputs": [],
   "source": [
    "# Si desea remover la carpeta que se auto crea\n",
    "\n",
    "import shutil\n",
    "shutil.rmtree('archivos/__MACOSX')"
   ]
  },
  {
   "cell_type": "markdown",
   "metadata": {
    "slideshow": {
     "slide_type": "slide"
    }
   },
   "source": [
    "### 👷🏽‍♀️ 4. Archivos de Office\n",
    "\n",
    "#### Word"
   ]
  },
  {
   "cell_type": "markdown",
   "metadata": {
    "slideshow": {
     "slide_type": "fragment"
    }
   },
   "source": [
    "Instalar libreria: `pip install pip install python-docx`"
   ]
  },
  {
   "cell_type": "code",
   "execution_count": 157,
   "metadata": {
    "slideshow": {
     "slide_type": "fragment"
    }
   },
   "outputs": [],
   "source": [
    "import docx "
   ]
  },
  {
   "cell_type": "code",
   "execution_count": 158,
   "metadata": {
    "slideshow": {
     "slide_type": "fragment"
    }
   },
   "outputs": [],
   "source": [
    "documento = docx.Document('archivos/Colombia.docx')"
   ]
  },
  {
   "cell_type": "code",
   "execution_count": 159,
   "metadata": {
    "slideshow": {
     "slide_type": "fragment"
    }
   },
   "outputs": [
    {
     "data": {
      "text/plain": [
       "['Colombia',\n",
       " '',\n",
       " 'Colombia, oficialmente\\xa0República de Colombia, es un\\xa0país soberano\\xa0situado en la región noroccidental de\\xa0América del Sur, que se constituye en un\\xa0estado unitario,\\xa0social\\xa0y\\xa0democrático\\xa0d',\n",
       " 'e\\xa0derecho\\xa0cuya forma de gobierno es\\xa0presidencialista. Es una república organizada políticamente en\\xa032 departamentos\\xa0descentralizados y el\\xa0Distrito Capital\\xa0de\\xa0Bogotá, sede del Gobierno Nacional.',\n",
       " '',\n",
       " '',\n",
       " '']"
      ]
     },
     "execution_count": 159,
     "metadata": {},
     "output_type": "execute_result"
    }
   ],
   "source": [
    "[p.text for p in documento.paragraphs]"
   ]
  },
  {
   "cell_type": "markdown",
   "metadata": {
    "slideshow": {
     "slide_type": "slide"
    }
   },
   "source": [
    "Para poder leer tablas dentro del archivo"
   ]
  },
  {
   "cell_type": "code",
   "execution_count": 160,
   "metadata": {
    "slideshow": {
     "slide_type": "fragment"
    }
   },
   "outputs": [],
   "source": [
    "table = documento.tables[0]"
   ]
  },
  {
   "cell_type": "code",
   "execution_count": 161,
   "metadata": {
    "slideshow": {
     "slide_type": "fragment"
    }
   },
   "outputs": [
    {
     "data": {
      "text/html": [
       "<div>\n",
       "<style scoped>\n",
       "    .dataframe tbody tr th:only-of-type {\n",
       "        vertical-align: middle;\n",
       "    }\n",
       "\n",
       "    .dataframe tbody tr th {\n",
       "        vertical-align: top;\n",
       "    }\n",
       "\n",
       "    .dataframe thead th {\n",
       "        text-align: right;\n",
       "    }\n",
       "</style>\n",
       "<table border=\"1\" class=\"dataframe\">\n",
       "  <thead>\n",
       "    <tr style=\"text-align: right;\">\n",
       "      <th></th>\n",
       "      <th>0</th>\n",
       "      <th>1</th>\n",
       "      <th>2</th>\n",
       "    </tr>\n",
       "  </thead>\n",
       "  <tbody>\n",
       "    <tr>\n",
       "      <td>0</td>\n",
       "      <td>REGION</td>\n",
       "      <td>DEPARTAMENTO</td>\n",
       "      <td>MUNICIPIO</td>\n",
       "    </tr>\n",
       "    <tr>\n",
       "      <td>1</td>\n",
       "      <td>Región Eje Cafetero - Antioquia</td>\n",
       "      <td>Antioquia</td>\n",
       "      <td>Medellín</td>\n",
       "    </tr>\n",
       "    <tr>\n",
       "      <td>2</td>\n",
       "      <td>Región Eje Cafetero - Antioquia</td>\n",
       "      <td>Antioquia</td>\n",
       "      <td>Abejorral</td>\n",
       "    </tr>\n",
       "    <tr>\n",
       "      <td>3</td>\n",
       "      <td>Región Eje Cafetero - Antioquia</td>\n",
       "      <td>Antioquia</td>\n",
       "      <td>Abriaquí</td>\n",
       "    </tr>\n",
       "    <tr>\n",
       "      <td>4</td>\n",
       "      <td>Región Eje Cafetero - Antioquia</td>\n",
       "      <td>Antioquia</td>\n",
       "      <td>Alejandría</td>\n",
       "    </tr>\n",
       "    <tr>\n",
       "      <td>5</td>\n",
       "      <td>Región Eje Cafetero - Antioquia</td>\n",
       "      <td>Antioquia</td>\n",
       "      <td>Amagá</td>\n",
       "    </tr>\n",
       "    <tr>\n",
       "      <td>6</td>\n",
       "      <td>Región Eje Cafetero - Antioquia</td>\n",
       "      <td>Antioquia</td>\n",
       "      <td>Amalfi</td>\n",
       "    </tr>\n",
       "    <tr>\n",
       "      <td>7</td>\n",
       "      <td>Región Eje Cafetero - Antioquia</td>\n",
       "      <td>Antioquia</td>\n",
       "      <td>Andes</td>\n",
       "    </tr>\n",
       "    <tr>\n",
       "      <td>8</td>\n",
       "      <td>Región Eje Cafetero - Antioquia</td>\n",
       "      <td>Antioquia</td>\n",
       "      <td>Angelópolis</td>\n",
       "    </tr>\n",
       "    <tr>\n",
       "      <td>9</td>\n",
       "      <td>Región Eje Cafetero - Antioquia</td>\n",
       "      <td>Antioquia</td>\n",
       "      <td>Angostura</td>\n",
       "    </tr>\n",
       "    <tr>\n",
       "      <td>10</td>\n",
       "      <td>Región Eje Cafetero - Antioquia</td>\n",
       "      <td>Antioquia</td>\n",
       "      <td>Anorí</td>\n",
       "    </tr>\n",
       "  </tbody>\n",
       "</table>\n",
       "</div>"
      ],
      "text/plain": [
       "                                  0             1            2\n",
       "0                            REGION  DEPARTAMENTO    MUNICIPIO\n",
       "1   Región Eje Cafetero - Antioquia     Antioquia     Medellín\n",
       "2   Región Eje Cafetero - Antioquia     Antioquia    Abejorral\n",
       "3   Región Eje Cafetero - Antioquia     Antioquia     Abriaquí\n",
       "4   Región Eje Cafetero - Antioquia     Antioquia   Alejandría\n",
       "5   Región Eje Cafetero - Antioquia     Antioquia        Amagá\n",
       "6   Región Eje Cafetero - Antioquia     Antioquia       Amalfi\n",
       "7   Región Eje Cafetero - Antioquia     Antioquia        Andes\n",
       "8   Región Eje Cafetero - Antioquia     Antioquia  Angelópolis\n",
       "9   Región Eje Cafetero - Antioquia     Antioquia    Angostura\n",
       "10  Región Eje Cafetero - Antioquia     Antioquia        Anorí"
      ]
     },
     "execution_count": 161,
     "metadata": {},
     "output_type": "execute_result"
    }
   ],
   "source": [
    "data = []\n",
    "\n",
    "keys = None\n",
    "for i, row in enumerate(table.rows):\n",
    "    fila = [cell.text.strip('\\n') for cell in row.cells]\n",
    "    data.append(fila)\n",
    "    \n",
    "df = pd.DataFrame(data)\n",
    "\n",
    "df"
   ]
  },
  {
   "cell_type": "markdown",
   "metadata": {
    "slideshow": {
     "slide_type": "slide"
    }
   },
   "source": [
    "### 👷🏽‍♀️ 4. Archivos de Office\n",
    "\n",
    "#### Excel"
   ]
  },
  {
   "cell_type": "code",
   "execution_count": 78,
   "metadata": {
    "slideshow": {
     "slide_type": "fragment"
    }
   },
   "outputs": [],
   "source": [
    "import pandas as pd"
   ]
  },
  {
   "cell_type": "code",
   "execution_count": 79,
   "metadata": {
    "slideshow": {
     "slide_type": "fragment"
    }
   },
   "outputs": [],
   "source": [
    "data = pd.read_excel(\"archivos/hoja.xlsx\")"
   ]
  },
  {
   "cell_type": "code",
   "execution_count": 81,
   "metadata": {
    "slideshow": {
     "slide_type": "fragment"
    }
   },
   "outputs": [
    {
     "data": {
      "text/html": [
       "<div>\n",
       "<style scoped>\n",
       "    .dataframe tbody tr th:only-of-type {\n",
       "        vertical-align: middle;\n",
       "    }\n",
       "\n",
       "    .dataframe tbody tr th {\n",
       "        vertical-align: top;\n",
       "    }\n",
       "\n",
       "    .dataframe thead th {\n",
       "        text-align: right;\n",
       "    }\n",
       "</style>\n",
       "<table border=\"1\" class=\"dataframe\">\n",
       "  <thead>\n",
       "    <tr style=\"text-align: right;\">\n",
       "      <th></th>\n",
       "      <th>OrderDate</th>\n",
       "      <th>Region</th>\n",
       "      <th>Rep</th>\n",
       "      <th>Item</th>\n",
       "      <th>Units</th>\n",
       "      <th>Unit Cost</th>\n",
       "      <th>Total</th>\n",
       "    </tr>\n",
       "  </thead>\n",
       "  <tbody>\n",
       "    <tr>\n",
       "      <td>0</td>\n",
       "      <td>2019-01-06</td>\n",
       "      <td>East</td>\n",
       "      <td>Jones</td>\n",
       "      <td>Pencil</td>\n",
       "      <td>95</td>\n",
       "      <td>1.99</td>\n",
       "      <td>189.05</td>\n",
       "    </tr>\n",
       "    <tr>\n",
       "      <td>1</td>\n",
       "      <td>2019-01-23</td>\n",
       "      <td>Central</td>\n",
       "      <td>Kivell</td>\n",
       "      <td>Binder</td>\n",
       "      <td>50</td>\n",
       "      <td>19.99</td>\n",
       "      <td>999.50</td>\n",
       "    </tr>\n",
       "    <tr>\n",
       "      <td>2</td>\n",
       "      <td>2019-02-09</td>\n",
       "      <td>Central</td>\n",
       "      <td>Jardine</td>\n",
       "      <td>Pencil</td>\n",
       "      <td>36</td>\n",
       "      <td>4.99</td>\n",
       "      <td>179.64</td>\n",
       "    </tr>\n",
       "    <tr>\n",
       "      <td>3</td>\n",
       "      <td>2019-02-26</td>\n",
       "      <td>Central</td>\n",
       "      <td>Gill</td>\n",
       "      <td>Pen</td>\n",
       "      <td>27</td>\n",
       "      <td>19.99</td>\n",
       "      <td>539.73</td>\n",
       "    </tr>\n",
       "    <tr>\n",
       "      <td>4</td>\n",
       "      <td>2019-03-15</td>\n",
       "      <td>West</td>\n",
       "      <td>Sorvino</td>\n",
       "      <td>Pencil</td>\n",
       "      <td>56</td>\n",
       "      <td>2.99</td>\n",
       "      <td>167.44</td>\n",
       "    </tr>\n",
       "  </tbody>\n",
       "</table>\n",
       "</div>"
      ],
      "text/plain": [
       "   OrderDate   Region      Rep    Item  Units  Unit Cost   Total\n",
       "0 2019-01-06     East    Jones  Pencil     95       1.99  189.05\n",
       "1 2019-01-23  Central   Kivell  Binder     50      19.99  999.50\n",
       "2 2019-02-09  Central  Jardine  Pencil     36       4.99  179.64\n",
       "3 2019-02-26  Central     Gill     Pen     27      19.99  539.73\n",
       "4 2019-03-15     West  Sorvino  Pencil     56       2.99  167.44"
      ]
     },
     "execution_count": 81,
     "metadata": {},
     "output_type": "execute_result"
    }
   ],
   "source": [
    "data.head()"
   ]
  },
  {
   "cell_type": "markdown",
   "metadata": {
    "slideshow": {
     "slide_type": "slide"
    }
   },
   "source": [
    "¿Y la segunda hoja?"
   ]
  },
  {
   "cell_type": "code",
   "execution_count": 85,
   "metadata": {
    "slideshow": {
     "slide_type": "fragment"
    }
   },
   "outputs": [],
   "source": [
    "data2 = pd.read_excel(\"archivos/hoja.xlsx\", sheet_name=1)"
   ]
  },
  {
   "cell_type": "code",
   "execution_count": 86,
   "metadata": {
    "slideshow": {
     "slide_type": "fragment"
    }
   },
   "outputs": [
    {
     "data": {
      "text/html": [
       "<div>\n",
       "<style scoped>\n",
       "    .dataframe tbody tr th:only-of-type {\n",
       "        vertical-align: middle;\n",
       "    }\n",
       "\n",
       "    .dataframe tbody tr th {\n",
       "        vertical-align: top;\n",
       "    }\n",
       "\n",
       "    .dataframe thead th {\n",
       "        text-align: right;\n",
       "    }\n",
       "</style>\n",
       "<table border=\"1\" class=\"dataframe\">\n",
       "  <thead>\n",
       "    <tr style=\"text-align: right;\">\n",
       "      <th></th>\n",
       "      <th>Hoja 2</th>\n",
       "      <th>Unnamed: 1</th>\n",
       "    </tr>\n",
       "  </thead>\n",
       "  <tbody>\n",
       "    <tr>\n",
       "      <td>0</td>\n",
       "      <td>Días</td>\n",
       "      <td>Número</td>\n",
       "    </tr>\n",
       "    <tr>\n",
       "      <td>1</td>\n",
       "      <td>Lunes</td>\n",
       "      <td>1</td>\n",
       "    </tr>\n",
       "    <tr>\n",
       "      <td>2</td>\n",
       "      <td>Martes</td>\n",
       "      <td>2</td>\n",
       "    </tr>\n",
       "    <tr>\n",
       "      <td>3</td>\n",
       "      <td>Miércoles</td>\n",
       "      <td>3</td>\n",
       "    </tr>\n",
       "    <tr>\n",
       "      <td>4</td>\n",
       "      <td>Jueves</td>\n",
       "      <td>4</td>\n",
       "    </tr>\n",
       "    <tr>\n",
       "      <td>5</td>\n",
       "      <td>Viernes</td>\n",
       "      <td>5</td>\n",
       "    </tr>\n",
       "    <tr>\n",
       "      <td>6</td>\n",
       "      <td>Sábado</td>\n",
       "      <td>6</td>\n",
       "    </tr>\n",
       "    <tr>\n",
       "      <td>7</td>\n",
       "      <td>Domingo</td>\n",
       "      <td>7</td>\n",
       "    </tr>\n",
       "  </tbody>\n",
       "</table>\n",
       "</div>"
      ],
      "text/plain": [
       "      Hoja 2 Unnamed: 1\n",
       "0       Días     Número\n",
       "1      Lunes          1\n",
       "2     Martes          2\n",
       "3  Miércoles          3\n",
       "4     Jueves          4\n",
       "5    Viernes          5\n",
       "6     Sábado          6\n",
       "7    Domingo          7"
      ]
     },
     "execution_count": 86,
     "metadata": {},
     "output_type": "execute_result"
    }
   ],
   "source": [
    "data2"
   ]
  },
  {
   "cell_type": "markdown",
   "metadata": {
    "slideshow": {
     "slide_type": "slide"
    }
   },
   "source": [
    "### 👷🏽‍♀️ 4. Archivos de Office\n",
    "\n",
    "#### Excel (Directamente desde Google Sheets)"
   ]
  },
  {
   "cell_type": "code",
   "execution_count": 163,
   "metadata": {
    "slideshow": {
     "slide_type": "fragment"
    }
   },
   "outputs": [],
   "source": [
    "url = \"https://docs.google.com/spreadsheets/d/15CGVDsx96eJOivSEdcatWaCOmBO465soHz_gQ_q7LhA/edit?usp=sharing\""
   ]
  },
  {
   "cell_type": "code",
   "execution_count": 164,
   "metadata": {
    "slideshow": {
     "slide_type": "fragment"
    }
   },
   "outputs": [
    {
     "data": {
      "text/plain": [
       "'https://docs.google.com/spreadsheets/d/15CGVDsx96eJOivSEdcatWaCOmBO465soHz_gQ_q7LhA/gviz/tq?tqx=out:csv'"
      ]
     },
     "execution_count": 164,
     "metadata": {},
     "output_type": "execute_result"
    }
   ],
   "source": [
    "new_url = url.rsplit(\"/\",1)[0] + \"/gviz/tq?tqx=out:csv\"\n",
    "new_url"
   ]
  },
  {
   "cell_type": "code",
   "execution_count": 165,
   "metadata": {
    "slideshow": {
     "slide_type": "fragment"
    }
   },
   "outputs": [
    {
     "data": {
      "text/html": [
       "<div>\n",
       "<style scoped>\n",
       "    .dataframe tbody tr th:only-of-type {\n",
       "        vertical-align: middle;\n",
       "    }\n",
       "\n",
       "    .dataframe tbody tr th {\n",
       "        vertical-align: top;\n",
       "    }\n",
       "\n",
       "    .dataframe thead th {\n",
       "        text-align: right;\n",
       "    }\n",
       "</style>\n",
       "<table border=\"1\" class=\"dataframe\">\n",
       "  <thead>\n",
       "    <tr style=\"text-align: right;\">\n",
       "      <th></th>\n",
       "      <th>#</th>\n",
       "      <th>Nombre</th>\n",
       "      <th>¿Por qué estás estudiando análitica estratégica de datos?</th>\n",
       "      <th>Sistema Operativo</th>\n",
       "      <th>Unnamed: 4</th>\n",
       "      <th>Unnamed: 5</th>\n",
       "      <th>Unnamed: 6</th>\n",
       "      <th>Unnamed: 7</th>\n",
       "      <th>Unnamed: 8</th>\n",
       "      <th>Unnamed: 9</th>\n",
       "      <th>...</th>\n",
       "      <th>Unnamed: 17</th>\n",
       "      <th>Unnamed: 18</th>\n",
       "      <th>Unnamed: 19</th>\n",
       "      <th>Unnamed: 20</th>\n",
       "      <th>Unnamed: 21</th>\n",
       "      <th>Unnamed: 22</th>\n",
       "      <th>Unnamed: 23</th>\n",
       "      <th>Unnamed: 24</th>\n",
       "      <th>Unnamed: 25</th>\n",
       "      <th>Unnamed: 26</th>\n",
       "    </tr>\n",
       "  </thead>\n",
       "  <tbody>\n",
       "    <tr>\n",
       "      <td>0</td>\n",
       "      <td>1</td>\n",
       "      <td>Viviana Márquez</td>\n",
       "      <td>Me gustan mucho las matemáticas, la programaci...</td>\n",
       "      <td>macOSx</td>\n",
       "      <td>NaN</td>\n",
       "      <td>NaN</td>\n",
       "      <td>NaN</td>\n",
       "      <td>NaN</td>\n",
       "      <td>NaN</td>\n",
       "      <td>NaN</td>\n",
       "      <td>...</td>\n",
       "      <td>NaN</td>\n",
       "      <td>NaN</td>\n",
       "      <td>NaN</td>\n",
       "      <td>NaN</td>\n",
       "      <td>NaN</td>\n",
       "      <td>NaN</td>\n",
       "      <td>NaN</td>\n",
       "      <td>NaN</td>\n",
       "      <td>NaN</td>\n",
       "      <td>NaN</td>\n",
       "    </tr>\n",
       "    <tr>\n",
       "      <td>1</td>\n",
       "      <td>2</td>\n",
       "      <td>Jorge Gomez</td>\n",
       "      <td>Desarrollo profesional y proyecto personal.</td>\n",
       "      <td>Windows x64</td>\n",
       "      <td>NaN</td>\n",
       "      <td>NaN</td>\n",
       "      <td>NaN</td>\n",
       "      <td>NaN</td>\n",
       "      <td>NaN</td>\n",
       "      <td>NaN</td>\n",
       "      <td>...</td>\n",
       "      <td>NaN</td>\n",
       "      <td>NaN</td>\n",
       "      <td>NaN</td>\n",
       "      <td>NaN</td>\n",
       "      <td>NaN</td>\n",
       "      <td>NaN</td>\n",
       "      <td>NaN</td>\n",
       "      <td>NaN</td>\n",
       "      <td>NaN</td>\n",
       "      <td>NaN</td>\n",
       "    </tr>\n",
       "    <tr>\n",
       "      <td>2</td>\n",
       "      <td>3</td>\n",
       "      <td>Ilvar Dario Sanabria</td>\n",
       "      <td>Muchas de las decisiones se basan en datos y c...</td>\n",
       "      <td>Windows x64</td>\n",
       "      <td>NaN</td>\n",
       "      <td>NaN</td>\n",
       "      <td>NaN</td>\n",
       "      <td>NaN</td>\n",
       "      <td>NaN</td>\n",
       "      <td>NaN</td>\n",
       "      <td>...</td>\n",
       "      <td>NaN</td>\n",
       "      <td>NaN</td>\n",
       "      <td>NaN</td>\n",
       "      <td>NaN</td>\n",
       "      <td>NaN</td>\n",
       "      <td>NaN</td>\n",
       "      <td>NaN</td>\n",
       "      <td>NaN</td>\n",
       "      <td>NaN</td>\n",
       "      <td>NaN</td>\n",
       "    </tr>\n",
       "    <tr>\n",
       "      <td>3</td>\n",
       "      <td>4</td>\n",
       "      <td>Camilo Rojas</td>\n",
       "      <td>Trabajo con temas relacionados a gestión de in...</td>\n",
       "      <td>Windows x64</td>\n",
       "      <td>NaN</td>\n",
       "      <td>NaN</td>\n",
       "      <td>NaN</td>\n",
       "      <td>NaN</td>\n",
       "      <td>NaN</td>\n",
       "      <td>NaN</td>\n",
       "      <td>...</td>\n",
       "      <td>NaN</td>\n",
       "      <td>NaN</td>\n",
       "      <td>NaN</td>\n",
       "      <td>NaN</td>\n",
       "      <td>NaN</td>\n",
       "      <td>NaN</td>\n",
       "      <td>NaN</td>\n",
       "      <td>NaN</td>\n",
       "      <td>NaN</td>\n",
       "      <td>NaN</td>\n",
       "    </tr>\n",
       "    <tr>\n",
       "      <td>4</td>\n",
       "      <td>5</td>\n",
       "      <td>Xiomy Díaz</td>\n",
       "      <td>En mi experiencia en investigación de mercados...</td>\n",
       "      <td>Windows x64</td>\n",
       "      <td>NaN</td>\n",
       "      <td>NaN</td>\n",
       "      <td>NaN</td>\n",
       "      <td>NaN</td>\n",
       "      <td>NaN</td>\n",
       "      <td>NaN</td>\n",
       "      <td>...</td>\n",
       "      <td>NaN</td>\n",
       "      <td>NaN</td>\n",
       "      <td>NaN</td>\n",
       "      <td>NaN</td>\n",
       "      <td>NaN</td>\n",
       "      <td>NaN</td>\n",
       "      <td>NaN</td>\n",
       "      <td>NaN</td>\n",
       "      <td>NaN</td>\n",
       "      <td>NaN</td>\n",
       "    </tr>\n",
       "  </tbody>\n",
       "</table>\n",
       "<p>5 rows × 27 columns</p>\n",
       "</div>"
      ],
      "text/plain": [
       "   #                 Nombre  \\\n",
       "0   1       Viviana Márquez   \n",
       "1   2           Jorge Gomez   \n",
       "2   3  Ilvar Dario Sanabria   \n",
       "3   4          Camilo Rojas   \n",
       "4   5            Xiomy Díaz   \n",
       "\n",
       "  ¿Por qué estás estudiando análitica estratégica de datos? Sistema Operativo  \\\n",
       "0  Me gustan mucho las matemáticas, la programaci...                   macOSx   \n",
       "1        Desarrollo profesional y proyecto personal.              Windows x64   \n",
       "2  Muchas de las decisiones se basan en datos y c...              Windows x64   \n",
       "3  Trabajo con temas relacionados a gestión de in...              Windows x64   \n",
       "4  En mi experiencia en investigación de mercados...              Windows x64   \n",
       "\n",
       "   Unnamed: 4  Unnamed: 5  Unnamed: 6  Unnamed: 7  Unnamed: 8  Unnamed: 9  \\\n",
       "0         NaN         NaN         NaN         NaN         NaN         NaN   \n",
       "1         NaN         NaN         NaN         NaN         NaN         NaN   \n",
       "2         NaN         NaN         NaN         NaN         NaN         NaN   \n",
       "3         NaN         NaN         NaN         NaN         NaN         NaN   \n",
       "4         NaN         NaN         NaN         NaN         NaN         NaN   \n",
       "\n",
       "   ...  Unnamed: 17  Unnamed: 18  Unnamed: 19  Unnamed: 20  Unnamed: 21  \\\n",
       "0  ...          NaN          NaN          NaN          NaN          NaN   \n",
       "1  ...          NaN          NaN          NaN          NaN          NaN   \n",
       "2  ...          NaN          NaN          NaN          NaN          NaN   \n",
       "3  ...          NaN          NaN          NaN          NaN          NaN   \n",
       "4  ...          NaN          NaN          NaN          NaN          NaN   \n",
       "\n",
       "   Unnamed: 22  Unnamed: 23  Unnamed: 24  Unnamed: 25  Unnamed: 26  \n",
       "0          NaN          NaN          NaN          NaN          NaN  \n",
       "1          NaN          NaN          NaN          NaN          NaN  \n",
       "2          NaN          NaN          NaN          NaN          NaN  \n",
       "3          NaN          NaN          NaN          NaN          NaN  \n",
       "4          NaN          NaN          NaN          NaN          NaN  \n",
       "\n",
       "[5 rows x 27 columns]"
      ]
     },
     "execution_count": 165,
     "metadata": {},
     "output_type": "execute_result"
    }
   ],
   "source": [
    "data = pd.read_csv(new_url)\n",
    "\n",
    "data.head()"
   ]
  },
  {
   "cell_type": "markdown",
   "metadata": {
    "slideshow": {
     "slide_type": "slide"
    }
   },
   "source": [
    "### 👷🏽‍♀️ 5.  Archivos PDF"
   ]
  },
  {
   "cell_type": "markdown",
   "metadata": {
    "slideshow": {
     "slide_type": "fragment"
    }
   },
   "source": [
    "Instalar libreria:  `pip install PyPDF2`"
   ]
  },
  {
   "cell_type": "code",
   "execution_count": 166,
   "metadata": {
    "slideshow": {
     "slide_type": "fragment"
    }
   },
   "outputs": [],
   "source": [
    "import PyPDF2"
   ]
  },
  {
   "cell_type": "code",
   "execution_count": 171,
   "metadata": {
    "slideshow": {
     "slide_type": "fragment"
    }
   },
   "outputs": [],
   "source": [
    "archivo = open('archivos/cien.pdf', 'rb')"
   ]
  },
  {
   "cell_type": "code",
   "execution_count": 174,
   "metadata": {
    "slideshow": {
     "slide_type": "fragment"
    }
   },
   "outputs": [
    {
     "name": "stdout",
     "output_type": "stream",
     "text": [
      "Cien aŒos de soledad Muchos aŒos despu”s, frente al pelotŠn de fusilamiento, el coronel Aureliano Buend™a hab™a de \n",
      "recordar aquella tarde remota en que su padre lo llevŠ a conocer el hielo. Macondo era entonces \n",
      "una aldea de veinte casas de barro y caŒabrava construidas a la orilla de un r™o de aguas di⁄fanas \n",
      "que se precipitaban por un lecho de piedras pulidas, blancas y enormes como huevos \n",
      "prehistŠricos. El mundo era tan reciente, que muchas cosas carec™an de nombre, y para \n",
      "mencionarlas hab™a que seŒalar™as con el dedo. Todos los aŒos, por el mes de marzo, una familia \n",
      "de gitanos desarrapados plantaba su carpa cerca de la aldea, y con un grande alboroto de pitos y \n",
      "timbales daban a conocer los nuevos inventos. Primero llevaron el im⁄n. Un gitano corpulento, de \n",
      "barba montaraz y manos de gorriŠn, que se presentŠ con el nombre de Melquiades, hizo una \n",
      "truculenta demostraciŠn pœblica de lo que ”l mismo llamaba la octava maravilla de los sabios \n",
      "alquimistas de Macedonia. Fue de casa en casa arrastrando dos lingotes met⁄licos, y todo el \n",
      "mundo se espantŠ al ver que los calderos, las pailas, las tenazas y los anafes se ca™an de su sitio, y \n",
      "las maderas cruj™an por la desesperaciŠn de los clavos y los tornillos tratando de desenclavarse, y \n",
      "aun los objetos perdidos desde hac™a mucho tiempo aparec™an por donde m⁄s se les hab™a buscado, \n",
      "y se arrastraban en desbandada turbulenta detr⁄s de los Þerros m⁄gicos de Melqu™ades. ÇLas \n",
      "cosas, tienen vida propia -pregonaba el gitano con ⁄spero acento-, todo es cuestiŠn de despertarles \n",
      "el ⁄nima.È Jos” Arcadio Buend™a, cuya desaforada imaginaciŠn iba siempre m⁄s lejos que el \n",
      "ingenio de la naturaleza, y aun m⁄s all⁄ del milagro y la magia, pensŠ que era posible servirse de \n",
      "aquella invenciŠn inœtil para desentraŒar el oro de la tierra. Melqu™ades, que era un hombre \n",
      "honrado, le previno: ÇPara eso no sirve.È Pero Jos” Arcadio Buend™a no cre™a en aquel tiempo en la \n",
      "honradez de los gitanos, as™ que cambiŠ su mulo y una partida de chivos por los dos lingotes \n",
      "imantados. òrsula Iguar⁄n, su mujer, que contaba con aquellos animales para ensanchar el \n",
      "desmedrado patrimonio dom”stico, no consiguiŠ disuadirlo. ÇMuy pronto ha de sobrarnos oro \n",
      "para empedrar la casaÈ, replicŠ su marido. Durante varios meses se empeŒŠ en demostrar el \n",
      "acierto de sus conjeturas. ExplorŠ palmo a palmo la regiŠn, inclusive el fondo del r™o, arrastrando \n",
      "los dos lingotes de hierro y recitando en voz alta el conjuro de Melqu™ades. Lo œnico que logrŠ \n",
      "desenterrar fue una armadura del siglo xv con todas sus partes soldadas por un cascote de Šxido, \n",
      "cuyo interior ten™a la resonancia hueca de un enorme calabazo lleno de piedras. Cuando Jos” \n",
      "Arcadio Buend™a y los cuatro hombres de su expediciŠn lograron desarticular la armadura, \n",
      "encontraron dentro un esqueleto calciÞcado que llevaba colgado en el cuello un relicario de cobre \n",
      "con un rizo de mujer.  \n",
      "\n"
     ]
    }
   ],
   "source": [
    "lector = PyPDF2.PdfFileReader(archivo)\n",
    "\n",
    "print(lector.getPage(0).extractText())"
   ]
  },
  {
   "cell_type": "markdown",
   "metadata": {
    "slideshow": {
     "slide_type": "slide"
    }
   },
   "source": [
    "### 👷🏽‍♀️ 6.  Archivos de imagen"
   ]
  },
  {
   "cell_type": "markdown",
   "metadata": {
    "slideshow": {
     "slide_type": "fragment"
    }
   },
   "source": [
    "Instalar:\n",
    "- `pip install pytesseract`\n",
    "- Tesser OCR\n",
    "    - Mac: `brew install tesseract` \n",
    "    - Linux: `sudo apt-get install tesseract-ocr` \n",
    "    - Windows: https://github.com/UB-Mannheim/tesseract/wiki"
   ]
  },
  {
   "cell_type": "code",
   "execution_count": 135,
   "metadata": {
    "slideshow": {
     "slide_type": "slide"
    }
   },
   "outputs": [],
   "source": [
    "import pytesseract\n",
    "from pytesseract import image_to_string\n",
    "from PIL import Image"
   ]
  },
  {
   "cell_type": "code",
   "execution_count": 175,
   "metadata": {
    "slideshow": {
     "slide_type": "fragment"
    }
   },
   "outputs": [],
   "source": [
    "# Image.open(\"archivos/estudiandes2.png\")"
   ]
  },
  {
   "cell_type": "code",
   "execution_count": 177,
   "metadata": {
    "slideshow": {
     "slide_type": "fragment"
    }
   },
   "outputs": [
    {
     "name": "stdout",
     "output_type": "stream",
     "text": [
      "Nis estudiantes\n",
      "Son los mejores,\n",
      "\f",
      "\n"
     ]
    }
   ],
   "source": [
    "# pytesseract.pytesseract.tesseract_cmd = \"C:\\\\Program Files\\\\Tesseract-OCR\\\\tesseract.exe\"\n",
    "texto = image_to_string(Image.open(\"archivos/estudiandes2.png\"))\n",
    "print(texto)"
   ]
  },
  {
   "cell_type": "markdown",
   "metadata": {
    "slideshow": {
     "slide_type": "slide"
    }
   },
   "source": [
    "### 👷🏽‍♀️ 6.  Aumentación de datos\n",
    "\n",
    "<br>\n",
    "\n",
    "<center><img src='img/gato1.jpg' style='height:300px; float: center; margin: 0px 15px 15px 0px'><center>\n",
    "\n",
    "• Estrategia utilizada frecuentemente en machine learning cuando no se tienen suficiente datos."
   ]
  },
  {
   "cell_type": "markdown",
   "metadata": {
    "slideshow": {
     "slide_type": "slide"
    }
   },
   "source": [
    "### 👷🏽‍♀️ 6.  Aumentación de datos\n",
    "\n",
    "<br>\n",
    "\n",
    "<center><img src='img/gato2.jpg' style='height:300px; float: center; margin: 0px 15px 15px 0px'><center>\n",
    "\n",
    "• Estrategia utilizada frecuentemente en machine learning cuando no se tienen suficiente datos."
   ]
  },
  {
   "cell_type": "markdown",
   "metadata": {
    "slideshow": {
     "slide_type": "slide"
    }
   },
   "source": [
    "### 👷🏽‍♀️ 6.  Aumentación de datos\n",
    "\n",
    "<br>\n",
    "\n",
    "<center><img src='img/gato3.jpg' style='height:300px; float: center; margin: 0px 15px 15px 0px'><center>\n",
    "\n",
    "• Estrategia utilizada frecuentemente en machine learning cuando no se tienen suficiente datos."
   ]
  },
  {
   "cell_type": "markdown",
   "metadata": {
    "slideshow": {
     "slide_type": "slide"
    }
   },
   "source": [
    "### 👷🏽‍♀️ 6.  Aumentación de datos\n",
    "\n",
    "<br>\n",
    "\n",
    "<center><img src='img/gato4.jpg' style='height:300px; float: center; margin: 0px 15px 15px 0px'><center>\n",
    "\n",
    "• Estrategia utilizada frecuentemente en machine learning cuando no se tienen suficiente datos."
   ]
  },
  {
   "cell_type": "markdown",
   "metadata": {
    "slideshow": {
     "slide_type": "slide"
    }
   },
   "source": [
    "### 👷🏽‍♀️ 6.  Aumentación de datos\n",
    "\n",
    "<br>\n",
    "\n",
    "<center>\n",
    "<img src='img/4cats.png' style='height:200px; float: center; margin: 0px 15px 15px 0px'></center>\n",
    "    \n",
    "• ¿Con textos?"
   ]
  },
  {
   "cell_type": "markdown",
   "metadata": {
    "slideshow": {
     "slide_type": "fragment"
    }
   },
   "source": [
    "- Reemplazo de sinónimos\n",
    "- Traducción de ida y vuelta\n",
    "- Reemplazar entidades\n",
    "- Agregar \"ruido\" al texto"
   ]
  },
  {
   "cell_type": "markdown",
   "metadata": {
    "slideshow": {
     "slide_type": "notes"
    }
   },
   "source": [
    "Más info: Libreria de `nlpaug`"
   ]
  },
  {
   "cell_type": "markdown",
   "metadata": {
    "slideshow": {
     "slide_type": "slide"
    }
   },
   "source": [
    "### 🤓 Recapitulando: Hoy aprendímos...\n",
    "\n",
    "- Los diferentes pasos en un proyecto de machine learning/NLP (flujo de datos/pipeline)\n",
    "- Métodos de adquisición de texto más comunes\n",
    "    - Usar un conjunto de datos abiertos\n",
    "    - Web Scraping\n",
    "    - Archivos más comunes: `.csv`, `.txt`, `.json`, `.zip`\n",
    "    - Archivos Office: Word, Excel, Google Sheets\n",
    "    - PDFs\n",
    "    - Imágenes\n",
    "    - Aumentación de datos"
   ]
  },
  {
   "cell_type": "markdown",
   "metadata": {
    "slideshow": {
     "slide_type": "slide"
    }
   },
   "source": [
    "# ¡Tiempo de taller!\n",
    "\n",
    "<center>\n",
    "<img src='img/Taller.gif'>"
   ]
  },
  {
   "cell_type": "markdown",
   "metadata": {
    "slideshow": {
     "slide_type": "fragment"
    }
   },
   "source": [
    "**Taller # 2:** Adquisición de datos de NLP.\n",
    "\n",
    "**Fecha de entrega:** Agosto 29, 2020. (Antes del inicio de la próxima clase)"
   ]
  },
  {
   "cell_type": "markdown",
   "metadata": {
    "slideshow": {
     "slide_type": "slide"
    }
   },
   "source": [
    "<center>\n",
    "    <img src='img/fin.gif'>\n",
    "\n",
    "### Proxima clase: Extracción, pre-procesamiento y normalización de textos\n",
    "\n",
    "### Retroalimentación: \n",
    "\n",
    "<center><a href='https://pollev.com/vivianamarqu288'>https://pollev.com/vivianamarqu288</a></center>"
   ]
  }
 ],
 "metadata": {
  "celltoolbar": "Slideshow",
  "kernelspec": {
   "display_name": "Python 3",
   "language": "python",
   "name": "python3"
  },
  "language_info": {
   "codemirror_mode": {
    "name": "ipython",
    "version": 3
   },
   "file_extension": ".py",
   "mimetype": "text/x-python",
   "name": "python",
   "nbconvert_exporter": "python",
   "pygments_lexer": "ipython3",
   "version": "3.7.4"
  }
 },
 "nbformat": 4,
 "nbformat_minor": 2
}
